{
  "cells": [
    {
      "cell_type": "markdown",
      "metadata": {
        "id": "84jcl25BLE8Y"
      },
      "source": [
        "# LAB 1: Matrix and Vector Computations in python\n",
        "In this lab you will use python to study the following topics:\n",
        "\n",
        "- How to create matrices and vectors in python.\n",
        "\n",
        "- How to manipulate matrices in python and create matrices of special types.\n",
        "\n",
        "- How to add matrices and multiply a vector by a matrix by python.\n",
        "\n",
        "- Solving System of Linear Equations Using Gaussian Elimination.\n",
        "\n",
        "- Matrix Multiplication using Different views."
      ]
    },
    {
      "cell_type": "markdown",
      "metadata": {
        "id": "3k0hs1mdLE8b"
      },
      "source": [
        "# First: you should run this cell"
      ]
    },
    {
      "cell_type": "code",
      "execution_count": 27,
      "metadata": {
        "id": "sLSulU8QLE8b"
      },
      "outputs": [],
      "source": [
        "# Make all numpy available via shorter 'np' prefix\n",
        "import numpy as np\n",
        "import sympy as sym"
      ]
    },
    {
      "cell_type": "markdown",
      "metadata": {
        "id": "PpYd6i67LE8d"
      },
      "source": [
        "# Question 1 :Declaring scalars, vectors, and matrices\n",
        "\n",
        "a) Use [numpy.array](https://numpy.org/doc/stable/reference/generated/numpy.array.html) to declare the following:\n",
        "\n",
        "1. A scalar $s = 5$\n",
        "2. A vector $v = \\begin{bmatrix} 5  \\\\ -2 \\\\ 4  \\\\ \\end{bmatrix}$\n",
        "3. A matrix $A = \\begin{bmatrix} 1 & 2 & 3  \\\\ 4 & 5 & 6 \\\\ 7 & 8 & 9  \\\\ \\end{bmatrix}$\n",
        "4. A matrix $B = \\begin{bmatrix} 1 & 2 & 3  \\\\ 4 & 5 & 6 \\\\ \\end{bmatrix}$\n",
        "5. A matrix $C = \\begin{bmatrix} 1 & 2   \\\\ 3 & 4  \\\\ 5 & 6   \\\\ \\end{bmatrix}$"
      ]
    },
    {
      "cell_type": "code",
      "execution_count": 28,
      "metadata": {
        "colab": {
          "base_uri": "https://localhost:8080/"
        },
        "id": "o0jtOq29LE8e",
        "outputId": "e8bb5c5e-6da6-4e55-bc19-49c76b50b189"
      },
      "outputs": [
        {
          "output_type": "stream",
          "name": "stdout",
          "text": [
            "s =  5\n",
            "\n",
            "v = \n",
            " [[ 5]\n",
            " [-2]\n",
            " [ 4]]\n",
            "\n",
            "A = \n",
            " [[1 2 3]\n",
            " [4 5 6]\n",
            " [7 8 9]]\n",
            "\n",
            "B = \n",
            " [[1 2 3]\n",
            " [4 5 6]]\n",
            "\n",
            "C = \n",
            " [[1 2]\n",
            " [3 4]\n",
            " [5 6]]\n"
          ]
        }
      ],
      "source": [
        "#type your code here:\n",
        "s = np.array(5)\n",
        "\n",
        "v = np.array([ [5], [-2], [4] ])\n",
        "\n",
        "A = np.array ([ [1, 2, 3], [4, 5, 6], [7, 8, 9] ]) \n",
        "\n",
        "B = np.array ([ [1, 2, 3], [4, 5, 6] ])\n",
        "\n",
        "C = np.array ([ [1, 2], [3, 4], [5, 6] ])\n",
        "\n",
        "print(\"s = \", s)\n",
        "print(\"\\nv = \\n\", v) \n",
        "print(\"\\nA = \\n\", A)\n",
        "print(\"\\nB = \\n\", B)\n",
        "print(\"\\nC = \\n\", C)"
      ]
    },
    {
      "cell_type": "markdown",
      "metadata": {
        "id": "GiB-0uBcLE8e"
      },
      "source": [
        "b) Print the data type of $s, v,$ and $A$ using `type` command in python."
      ]
    },
    {
      "cell_type": "code",
      "execution_count": 29,
      "metadata": {
        "colab": {
          "base_uri": "https://localhost:8080/"
        },
        "id": "2E0d5BF6LE8f",
        "outputId": "04c69ef4-253c-4484-9d85-c1d674f66dcb"
      },
      "outputs": [
        {
          "output_type": "stream",
          "name": "stdout",
          "text": [
            "type(s) =  <class 'numpy.ndarray'>\n",
            "type(v) =  <class 'numpy.ndarray'>\n",
            "type(A) =  <class 'numpy.ndarray'>\n"
          ]
        }
      ],
      "source": [
        "#type your code here:\n",
        "print(\"type(s) = \", type(s))\n",
        "print(\"type(v) = \", type(v))\n",
        "print(\"type(A) = \", type(A))"
      ]
    },
    {
      "cell_type": "markdown",
      "metadata": {
        "id": "2_JGUcF-LE8f"
      },
      "source": [
        "c) Using [numpy.shape](https://numpy.org/devdocs/reference/generated/numpy.shape.html) or `A.shape` print the shape of $s, v, A, B,$ and $C$."
      ]
    },
    {
      "cell_type": "code",
      "execution_count": 30,
      "metadata": {
        "colab": {
          "base_uri": "https://localhost:8080/"
        },
        "id": "SSrWmsK5LE8f",
        "outputId": "cb7c7ccf-1044-466d-bfa6-09b9b0826284"
      },
      "outputs": [
        {
          "output_type": "stream",
          "name": "stdout",
          "text": [
            "s.shape =  ()\n",
            "v.shape =  (3, 1)\n",
            "A.shape =  (3, 3)\n",
            "B.shape =  (2, 3)\n",
            "C.shape =  (3, 2)\n"
          ]
        }
      ],
      "source": [
        "#type your code here:\n",
        "print(\"s.shape = \", s.shape)\n",
        "print(\"v.shape = \", v.shape)\n",
        "print(\"A.shape = \", A.shape)\n",
        "print(\"B.shape = \", B.shape)\n",
        "print(\"C.shape = \", C.shape)"
      ]
    },
    {
      "cell_type": "markdown",
      "metadata": {
        "id": "xN5FlVBrLE8g"
      },
      "source": [
        "d) To access a given entry in the `numpy array` put the `row number - 1` and `column number - 1` in square brackets following the array name. Ex `a32 = A[2, 1]`.\n",
        "- Print the value of the third row and the second column of the matrix $A$.\n",
        "- Change it to $10$.\n",
        "- Print the matrix A to check the entry is changed."
      ]
    },
    {
      "cell_type": "code",
      "execution_count": 31,
      "metadata": {
        "colab": {
          "base_uri": "https://localhost:8080/"
        },
        "id": "SYwkNtGILE8h",
        "outputId": "72e73dd7-fe33-4ebb-eb36-ad4f703692d8"
      },
      "outputs": [
        {
          "output_type": "stream",
          "name": "stdout",
          "text": [
            "A[2, 1] =  8\n",
            "\n",
            "A = \n",
            " [[ 1  2  3]\n",
            " [ 4  5  6]\n",
            " [ 7 10  9]]\n"
          ]
        }
      ],
      "source": [
        "#type your code here:\n",
        "print(\"A[2, 1] = \", A[2, 1])\n",
        "A[2, 1] = 10\n",
        "print(\"\\nA = \\n\", A)"
      ]
    },
    {
      "cell_type": "markdown",
      "metadata": {
        "id": "J_YxeL1VLE8h"
      },
      "source": [
        "e)To access a whole row or column of a matrix, use the colon operator. For example, `A[:, [1]]` is the second column of A, while `B[[1], :]` is the second row of B."
      ]
    },
    {
      "cell_type": "code",
      "execution_count": 32,
      "metadata": {
        "colab": {
          "base_uri": "https://localhost:8080/"
        },
        "id": "z5SWF6UKLE8h",
        "outputId": "9fe4d92f-6149-4d49-c66f-66effb3eb1bc"
      },
      "outputs": [
        {
          "output_type": "stream",
          "name": "stdout",
          "text": [
            "A[:, [1]] = \n",
            " [[ 2]\n",
            " [ 5]\n",
            " [10]]\n",
            "\n",
            "B[[1], :] = \n",
            " [[4 5 6]]\n"
          ]
        }
      ],
      "source": [
        "#type your code here:\n",
        "print(\"A[:, [1]] = \\n\", A[:, [1]])\n",
        "print(\"\\nB[[1], :] = \\n\", B[[1], :])"
      ]
    },
    {
      "cell_type": "markdown",
      "metadata": {
        "id": "14WKy_iVLE8i"
      },
      "source": [
        "f) Type each of the following commands that generate special matrices:\n",
        "- `np.eye(4), np.zeros(3), np.zeros((3, 1)), np.zeros((3, 5)), np.ones((2, 3)), and np.diag([4, 5, 6, 7])`"
      ]
    },
    {
      "cell_type": "code",
      "execution_count": 52,
      "metadata": {
        "colab": {
          "base_uri": "https://localhost:8080/"
        },
        "id": "evJpo2KPLE8i",
        "outputId": "5f14ae33-4545-4c63-dd3e-e5306bb2e89e"
      },
      "outputs": [
        {
          "output_type": "stream",
          "name": "stdout",
          "text": [
            "np.eye(4) = \n",
            " [[1. 0. 0. 0.]\n",
            " [0. 1. 0. 0.]\n",
            " [0. 0. 1. 0.]\n",
            " [0. 0. 0. 1.]]\n",
            "\n",
            "np.zaeros(3) = \n",
            " [0. 0. 0. 0.]\n",
            "\n",
            "np.zeros(3, 1) = \n",
            " [[0.]\n",
            " [0.]\n",
            " [0.]]\n",
            "\n",
            "np.zeros(3, 5) = \n",
            " [[0. 0. 0. 0. 0.]\n",
            " [0. 0. 0. 0. 0.]\n",
            " [0. 0. 0. 0. 0.]]\n",
            "\n",
            "np.ones(2, 3) = \n",
            " [[1. 1. 1.]\n",
            " [1. 1. 1.]]\n",
            "\n",
            "np.diag([4, 5, 6, 7]) = \n",
            " [[4 0 0 0]\n",
            " [0 5 0 0]\n",
            " [0 0 6 0]\n",
            " [0 0 0 7]]\n"
          ]
        }
      ],
      "source": [
        "#type your code here:\n",
        "print(\"np.eye(4) = \\n\", np.eye(4))\n",
        "print(\"\\nnp.zaeros(3) = \\n\", np.zeros(4))\n",
        "print(\"\\nnp.zeros(3, 1) = \\n\", np.zeros((3, 1)))\n",
        "print(\"\\nnp.zeros(3, 5) = \\n\", np.zeros((3, 5)))\n",
        "print(\"\\nnp.ones(2, 3) = \\n\", np.ones((2, 3)))\n",
        "print(\"\\nnp.diag([4, 5, 6, 7]) = \\n\", np.diag([4, 5, 6, 7]))"
      ]
    },
    {
      "cell_type": "markdown",
      "metadata": {
        "id": "QnMNoAA_LE8j"
      },
      "source": [
        "# Question 2. Vectors Addition, Scaling, and dot product"
      ]
    },
    {
      "cell_type": "markdown",
      "metadata": {
        "id": "vOjpCa-3LE8k"
      },
      "source": [
        "a) Declare vectors $v1 = \\begin{bmatrix} 1  \\\\ 2 \\\\ 7  \\\\ 4 \\\\ \\end{bmatrix}$ and $v2 = \\begin{bmatrix} 4  \\\\ 3 \\\\ 6  \\\\ 8 \\\\ \\end{bmatrix}$\n",
        "\n",
        "- Addition: $v1 + v2$\n",
        "- Subtraction: $v1 - v2$\n",
        "- Scaling by a number: $3 * v1$\n",
        "- Scaling by a number: $v1 / 2$"
      ]
    },
    {
      "cell_type": "code",
      "execution_count": 34,
      "metadata": {
        "colab": {
          "base_uri": "https://localhost:8080/"
        },
        "id": "pw2DWVOpLE8l",
        "outputId": "03ac9fab-2d4f-439a-bfe8-c65259181bc9"
      },
      "outputs": [
        {
          "output_type": "stream",
          "name": "stdout",
          "text": [
            "v1 = \n",
            " [[1]\n",
            " [2]\n",
            " [7]\n",
            " [4]]\n",
            "\n",
            "v2 = \n",
            " [[4]\n",
            " [3]\n",
            " [6]\n",
            " [8]]\n",
            "\n",
            "v1 + v2 = \n",
            " [[ 5]\n",
            " [ 5]\n",
            " [13]\n",
            " [12]]\n",
            "\n",
            "v1 - v2 = \n",
            " [[-3]\n",
            " [-1]\n",
            " [ 1]\n",
            " [-4]]\n",
            "\n",
            "3 * v1 = \n",
            " [[ 3]\n",
            " [ 6]\n",
            " [21]\n",
            " [12]]\n",
            "\n",
            "v1 / 2 = \n",
            " [[0.5]\n",
            " [1. ]\n",
            " [3.5]\n",
            " [2. ]]\n"
          ]
        }
      ],
      "source": [
        "#type your code here:\n",
        "v1 = np.array([ [1], [2], [7], [4] ])\n",
        "v2 = np.array([ [4], [3], [6], [8] ])\n",
        "\n",
        "print(\"v1 = \\n\", v1)\n",
        "print(\"\\nv2 = \\n\", v2)\n",
        "print(\"\\nv1 + v2 = \\n\", v1 + v2)\n",
        "print(\"\\nv1 - v2 = \\n\", v1 - v2)\n",
        "print(\"\\n3 * v1 = \\n\", 3 * v1)\n",
        "print(\"\\nv1 / 2 = \\n\", v1 / 2)"
      ]
    },
    {
      "cell_type": "markdown",
      "metadata": {
        "id": "R6Wcft8kLE8m"
      },
      "source": [
        "b) Find the dot product between the two vectors $v1$ and $v2$ using the following:\n",
        "\n",
        "- [numpy.dot](https://numpy.org/doc/stable/reference/generated/numpy.dot.html)\n",
        "- [numpy.matmul](https://numpy.org/doc/stable/reference/generated/numpy.matmul.html#numpy.matmul)\n",
        "- `v1.T @ v2`"
      ]
    },
    {
      "cell_type": "code",
      "execution_count": 35,
      "metadata": {
        "colab": {
          "base_uri": "https://localhost:8080/"
        },
        "id": "lcinns2CLE8n",
        "outputId": "f4ee38c6-1760-495e-837f-0212c239ac7d"
      },
      "outputs": [
        {
          "output_type": "stream",
          "name": "stdout",
          "text": [
            "Using numpy.dot = \n",
            " [[84]]\n",
            "\n",
            "Using numpy.matmul = \n",
            " [[84]]\n",
            "\n",
            "Using @ = \n",
            " [[84]]\n"
          ]
        }
      ],
      "source": [
        "#type your code here:\n",
        "print(\"Using numpy.dot = \\n\", np.dot(v1.T , v2))\n",
        "print(\"\\nUsing numpy.matmul = \\n\", np.matmul(v1.T , v2))\n",
        "print(\"\\nUsing @ = \\n\", v1.T @ v2)"
      ]
    },
    {
      "cell_type": "markdown",
      "metadata": {
        "id": "13kjtc2pLE8p"
      },
      "source": [
        "c) Find the length of the vectors $v1$ and $v2$.\n",
        "- Using [numpy.linalg.norm](https://numpy.org/doc/stable/reference/generated/numpy.linalg.norm.html)\n",
        "- Using the dot product and [numpy.sqrt](https://numpy.org/doc/stable/reference/generated/numpy.sqrt.html)\n"
      ]
    },
    {
      "cell_type": "code",
      "execution_count": 36,
      "metadata": {
        "colab": {
          "base_uri": "https://localhost:8080/"
        },
        "id": "cB2fQQhCLE8q",
        "outputId": "f0de60de-d8d0-467a-d060-37c01741c206"
      },
      "outputs": [
        {
          "output_type": "stream",
          "name": "stdout",
          "text": [
            "length of v1 Using numpy.linalg.norm = \n",
            "8.366600265340756\n",
            "\n",
            "length of v2 Using numpy.linalg.norm = \n",
            "11.180339887498949\n",
            "\n",
            "length of v1 Using the dot product and numpy.sqrt = \n",
            "[[8.36660027]]\n",
            "\n",
            "length of v2 Using the dot product and numpy.sqrt = \n",
            "[[11.18033989]]\n"
          ]
        }
      ],
      "source": [
        "#type your code here:\n",
        "print(\"length of v1 Using numpy.linalg.norm = \")\n",
        "print(np.linalg.norm(v1))\n",
        "print(\"\\nlength of v2 Using numpy.linalg.norm = \")\n",
        "print(np.linalg.norm(v2))\n",
        "print(\"\\nlength of v1 Using the dot product and numpy.sqrt = \")\n",
        "print(np.sqrt(v1.T @ v1))\n",
        "print(\"\\nlength of v2 Using the dot product and numpy.sqrt = \")\n",
        "print(np.sqrt(v2.T @ v2))"
      ]
    },
    {
      "cell_type": "markdown",
      "metadata": {
        "id": "85pO-yH2LE8q"
      },
      "source": [
        "d) Show that the vectors $u = \\begin{bmatrix} 3  \\\\ 2 \\\\ -1  \\\\ 4 \\\\ \\end{bmatrix}$ and $v = \\begin{bmatrix} 1  \\\\ -1 \\\\ 1  \\\\ 0 \\\\ \\end{bmatrix}$ are orthogonal.\n"
      ]
    },
    {
      "cell_type": "code",
      "execution_count": 37,
      "metadata": {
        "colab": {
          "base_uri": "https://localhost:8080/"
        },
        "id": "VY44mkoNLE8r",
        "outputId": "5f23dafa-e880-4dfd-f28e-023b702d68b4"
      },
      "outputs": [
        {
          "output_type": "stream",
          "name": "stdout",
          "text": [
            "u.T @ v = \n",
            "[[0]]\n"
          ]
        }
      ],
      "source": [
        "#type your code here:\n",
        "u = np.array([ [3], [2], [-1], [4] ])\n",
        "v = np.array([ [1], [-1], [1], [0] ])\n",
        "\n",
        "print(\"u.T @ v = \")\n",
        "print(u.T @ v)"
      ]
    },
    {
      "cell_type": "markdown",
      "metadata": {
        "id": "iJ4emTNhLE8r"
      },
      "source": [
        "# Question 3. Matrix Addition and Matrix-Vector Multiplication\n",
        "\n",
        "Declare vectors $u$ and $v$ and matrices $A$ and $B$ as following:\n",
        "- $u = \\begin{bmatrix} 2  \\\\ 7 \\\\ 2 \\\\ \\end{bmatrix}$, $v = \\begin{bmatrix} 8  \\\\ 2 \\\\ 4 \\\\ \\end{bmatrix}$\n",
        "- $A = \\begin{bmatrix} 7 & 3 & 5  \\\\ 4 & 6 & 2 \\\\ \\end{bmatrix}$, $B = \\begin{bmatrix} 0 & 6 & 4  \\\\ 2 & 3 & 0 \\\\ \\end{bmatrix}$\n",
        "\n",
        "a) Calculate the following using python.\n",
        "\n",
        "- $A+B$\n",
        "- $B+A$\n",
        "- $3A$\n",
        "- $6B$\n",
        "- $2(3B)$\n",
        "- $6A+15B$\n",
        "- $3(2A+5B)$\n",
        "- $(3A^T)^T$"
      ]
    },
    {
      "cell_type": "code",
      "execution_count": 38,
      "metadata": {
        "colab": {
          "base_uri": "https://localhost:8080/"
        },
        "id": "LV416VESLE8r",
        "outputId": "e362383e-4627-49eb-e282-d1ba74c49d64"
      },
      "outputs": [
        {
          "output_type": "stream",
          "name": "stdout",
          "text": [
            "u = \n",
            " [[2]\n",
            " [7]\n",
            " [2]]\n",
            "\n",
            "v = \n",
            " [[8]\n",
            " [2]\n",
            " [4]]\n",
            "\n",
            "A = \n",
            " [[7 3 5]\n",
            " [4 6 2]]\n",
            "\n",
            "B = \n",
            " [[0 6 4]\n",
            " [2 3 0]]\n",
            "\n",
            "A + B = \n",
            " [[7 9 9]\n",
            " [6 9 2]]\n",
            "\n",
            "B + A = \n",
            " [[7 9 9]\n",
            " [6 9 2]]\n",
            "\n",
            "3A = \n",
            " [[21  9 15]\n",
            " [12 18  6]]\n",
            "\n",
            "6B = \n",
            " [[ 0 36 24]\n",
            " [12 18  0]]\n",
            "\n",
            "2(3B) = \n",
            " [[ 0 36 24]\n",
            " [12 18  0]]\n",
            "\n",
            "6A + 15B = \n",
            " [[ 42 108  90]\n",
            " [ 54  81  12]]\n",
            "\n",
            "3(2A + 5B) = \n",
            " [[ 42 108  90]\n",
            " [ 54  81  12]]\n",
            "\n",
            "(3A^T)^T = \n",
            " [[21  9 15]\n",
            " [12 18  6]]\n"
          ]
        }
      ],
      "source": [
        "#type your code here:\n",
        "u = np.array([ [2], [7], [2] ])\n",
        "v = np.array([ [8], [2], [4] ])\n",
        "A = np.array ([ [7, 3, 5], [4, 6, 2] ]) \n",
        "B = np.array ([ [0, 6, 4], [2, 3, 0] ]) \n",
        "\n",
        "print(\"u = \\n\", u)\n",
        "print(\"\\nv = \\n\", v)\n",
        "print(\"\\nA = \\n\", A)\n",
        "print(\"\\nB = \\n\", B)\n",
        "\n",
        "print(\"\\nA + B = \\n\", A + B)\n",
        "print(\"\\nB + A = \\n\", B + A)\n",
        "print(\"\\n3A = \\n\", (3 * A))\n",
        "print(\"\\n6B = \\n\", 6 * B)\n",
        "print(\"\\n2(3B) = \\n\", 2 * (3 * B))\n",
        "print(\"\\n6A + 15B = \\n\", (6 * A) + (15 * B))\n",
        "print(\"\\n3(2A + 5B) = \\n\", 3*((2 * A) + (5 * B)))\n",
        "print(\"\\n(3A^T)^T = \\n\", (3 * A.T).T)"
      ]
    },
    {
      "cell_type": "markdown",
      "metadata": {
        "id": "rVGBRD4iLE8s"
      },
      "source": [
        "b) To obtain the matrix-vector product $Au$ using python, type `A @ u`. Calculate the following:\n",
        "\n",
        "- $Au+Av$\n",
        "- $A(u+v)$\n",
        "- $(A+B)u$\n",
        "- $Au+Bu$\n",
        "- $A(3u)$\n",
        "- $3A(u)$"
      ]
    },
    {
      "cell_type": "code",
      "execution_count": 39,
      "metadata": {
        "colab": {
          "base_uri": "https://localhost:8080/"
        },
        "id": "yE_Ovr_XLE8s",
        "outputId": "29be2da5-f4ad-4ba2-a0b5-68902586fbd7"
      },
      "outputs": [
        {
          "output_type": "stream",
          "name": "stdout",
          "text": [
            "Au + Av = \n",
            " [[127]\n",
            " [106]]\n",
            "\n",
            "A(u+v) = \n",
            " [[127]\n",
            " [106]]\n",
            "\n",
            "(A + B)u = \n",
            " [[95]\n",
            " [79]]\n",
            "\n",
            "Au + Bu = \n",
            " [[95]\n",
            " [79]]\n",
            "\n",
            "A(3u) = \n",
            " [[135]\n",
            " [162]]\n",
            "\n",
            "3A(u) = \n",
            " [[135]\n",
            " [162]]\n"
          ]
        }
      ],
      "source": [
        "#type your code here:\n",
        "print(\"Au + Av = \\n\", A @ u + A @ v)\n",
        "print(\"\\nA(u+v) = \\n\", A @ (u + v))\n",
        "print(\"\\n(A + B)u = \\n\", ((A + B) @ u))\n",
        "print(\"\\nAu + Bu = \\n\", A @ u + B @ u)\n",
        "print(\"\\nA(3u) = \\n\", A @ (3 * u))\n",
        "print(\"\\n3A(u) = \\n\", (3 * A) @ u)"
      ]
    },
    {
      "cell_type": "markdown",
      "metadata": {
        "id": "vCXQCizgLE8s"
      },
      "source": [
        "# Question 4. Gaussian Elimination and Reduced Row-Echelon Form"
      ]
    },
    {
      "cell_type": "markdown",
      "metadata": {
        "id": "5__H8uyyLE8s"
      },
      "source": [
        "You will see a step-by-step example of the row operations that transform a matrix $A$ into its reduced row echelon form $R = rref(A)$. In this demonstration, each pivot is chosen to be the largest in its column (for numerical stability), so extra row interchanges are used. Since $rref(A)$ is uniquely determined by $A$, this does not affect the final answer.\n",
        "\n",
        "The built in [rref](https://docs.sympy.org/latest/tutorial/matrices.html#rref) method `sympy.rref()` method just search for the method and its output to deal with the code."
      ]
    },
    {
      "cell_type": "markdown",
      "metadata": {
        "id": "VsaPgwQXLE8t"
      },
      "source": [
        "#### (a) Generate and display a $3 \\times 4$ matrix $A$ with random integer entries "
      ]
    },
    {
      "cell_type": "code",
      "execution_count": 40,
      "metadata": {
        "colab": {
          "base_uri": "https://localhost:8080/"
        },
        "id": "3T9NV5CyLE8t",
        "outputId": "de2b4bbc-ca42-407e-c9c9-3d2cca7c7ab8"
      },
      "outputs": [
        {
          "output_type": "stream",
          "name": "stdout",
          "text": [
            "\n",
            " A = \n",
            " [[8. 6. 2. 1.]\n",
            " [8. 8. 1. 0.]\n",
            " [9. 9. 1. 1.]]\n"
          ]
        }
      ],
      "source": [
        "#type your code here:\n",
        "A = np.fix((10*(np.random.rand(3,4))))\n",
        "print(\"\\n A = \\n\", A)"
      ]
    },
    {
      "cell_type": "markdown",
      "metadata": {
        "id": "CYOiL9vhLE8t"
      },
      "source": [
        "- To transform $A$ into $R = rref(A)$, start with $R = A$.\n",
        "- Normalize the first row of R to get R(1st row, 1st column) = 1\n",
        "\n",
        "    - `R = A`\n",
        "    - `R[0,:] = R[0, :] / R[0, 0]`\n",
        "\n",
        "(note the use of the colon to operate on whole rows of the matrix). \n",
        "\n",
        "<div class=\"alert alert-block alert-warning\">If your random matrix happens to have A(1, 1) = 0, then interchange rows to get a nonzero entry in the (1, 1) position before doing the calculation above.</div>\n",
        "\n",
        "- Now subtract a multiple of the first row of R from the second row to make R(2, 1) = 0:\n",
        "\n",
        "    - `R[1, :] = R[1, :] - R[1, 0] * R[0, :]`\n",
        "\n",
        "- Repeat this procedure to make R(3, 1) = 0:\n",
        "\n",
        "    - `R[2, :] = R[2, :] - R[2, 0] * R[0, :]`\n",
        "\n",
        "The first column of your matrix $R$ should now be the same as the first column of $rref(A)$."
      ]
    },
    {
      "cell_type": "code",
      "execution_count": 41,
      "metadata": {
        "colab": {
          "base_uri": "https://localhost:8080/"
        },
        "id": "7lnOH7LlLE8t",
        "outputId": "7e3b303d-c2dc-4da1-de01-5df31b908807"
      },
      "outputs": [
        {
          "output_type": "stream",
          "name": "stdout",
          "text": [
            "\n",
            "R = \n",
            " [[ 1.     0.75   0.25   0.125]\n",
            " [ 0.     2.    -1.    -1.   ]\n",
            " [ 0.     2.25  -1.25  -0.125]]\n"
          ]
        }
      ],
      "source": [
        "#type your code here:\n",
        "R = A\n",
        "R[0,:] = R[0, :] / R[0, 0]\n",
        "R[1, :] = R[1, :] - R[1, 0] * R[0, :]\n",
        "R[2, :] = R[2, :] - R[2, 0] * R[0, :]\n",
        "print(\"\\nR = \\n\", R)"
      ]
    },
    {
      "cell_type": "markdown",
      "metadata": {
        "id": "I8umVyJ7LE8u"
      },
      "source": [
        "#### (b)Operate on $R$ by the same method as in (a) to obtain the second column of $rref(A)$. First normalize row $2$ of $R$, then subtract multiples of row $2$ from rows $1$ and $3$ to put zeros in the (1, 2) and (3, 2) positions. Be sure to refer to the entries in your matrix symbolically as was done in part (a)"
      ]
    },
    {
      "cell_type": "code",
      "execution_count": 42,
      "metadata": {
        "colab": {
          "base_uri": "https://localhost:8080/"
        },
        "id": "6730HUBiLE8u",
        "outputId": "099461d9-f8ca-4c4a-af00-e56887a740f5"
      },
      "outputs": [
        {
          "output_type": "stream",
          "name": "stdout",
          "text": [
            "\n",
            "R = \n",
            " [[ 1.     0.     0.625  0.5  ]\n",
            " [ 0.     1.    -0.5   -0.5  ]\n",
            " [ 0.     0.    -0.125  1.   ]]\n"
          ]
        }
      ],
      "source": [
        "#type your code here:\n",
        "R[1,:] = R[1, :] / R[1, 1]\n",
        "R[0, :] = R[0, :] - R[0, 1] * R[1, :]\n",
        "R[2, :] = R[2, :] - R[2, 1] * R[1, :]\n",
        "print(\"\\nR = \\n\", R)"
      ]
    },
    {
      "cell_type": "markdown",
      "metadata": {
        "id": "9yxou7a5LE8u"
      },
      "source": [
        "#### (c) Operate on $R$ by the same method as in (b) to obtain the third column of $rref(A)$. First normalize row $3$ of $R$, then subtract multiples of row $3$ from rows $1$ and $2$ to put zeros in the (1, 3) and (2, 3) positions."
      ]
    },
    {
      "cell_type": "code",
      "execution_count": 43,
      "metadata": {
        "colab": {
          "base_uri": "https://localhost:8080/"
        },
        "id": "bEU-hCWwLE8v",
        "outputId": "0aa07723-a299-428c-94ab-04b109327c6e"
      },
      "outputs": [
        {
          "output_type": "stream",
          "name": "stdout",
          "text": [
            "\n",
            "R = \n",
            " [[ 1.   0.   0.   5.5]\n",
            " [ 0.   1.   0.  -4.5]\n",
            " [-0.  -0.   1.  -8. ]]\n"
          ]
        }
      ],
      "source": [
        "#type your code here:\n",
        "R[2,:] = R[2, :] / R[2, 2]\n",
        "R[0, :] = R[0, :] - R[0, 2] * R[2, :]\n",
        "R[1, :] = R[1, :] - R[1, 2] * R[2, :]\n",
        "print(\"\\nR = \\n\", R)"
      ]
    },
    {
      "cell_type": "markdown",
      "metadata": {
        "id": "Ynus_jNPLE8v"
      },
      "source": [
        "#### (d) Your matrix $R$ should now be transformed into $rref(A)$ (since $A$ is a random $3 \\times 4$ matrix, $rref(A)$ is (almost) sure to have rank (3) `np.linalg.matrix_rank(R)`. Check your answer by python with the rref method . If the answer is not the same as the current value of your $R$, go back and redo your calculations.\n",
        "\n",
        "- use the the built in rref method `sympy.rref()`\n",
        "- print the output matrix in numpy array type\n",
        "\n",
        "    - `M = sym.Matrix(A)`\n",
        "    - `M_rref = M.rref()`\n",
        "    - `R = np.array((M_rref[0])).astype(np.float64)`"
      ]
    },
    {
      "cell_type": "code",
      "execution_count": 44,
      "metadata": {
        "colab": {
          "base_uri": "https://localhost:8080/"
        },
        "id": "wHWEWi7YLE8v",
        "outputId": "5cb7469c-d0fc-4905-c7bf-5214e47844cb"
      },
      "outputs": [
        {
          "output_type": "stream",
          "name": "stdout",
          "text": [
            "\n",
            "rank = \n",
            " 3\n",
            "\n",
            "The Row echelon form of matrix M \n",
            " [[ 1.   0.   0.   5.5]\n",
            " [ 0.   1.   0.  -4.5]\n",
            " [ 0.   0.   1.  -8. ]]\n"
          ]
        }
      ],
      "source": [
        "#type your code here:\n",
        "print(\"\\nrank = \\n\",np.linalg.matrix_rank(R))\n",
        "# Use sympy.rref() method \n",
        "M = sym.Matrix(A)\n",
        "M_rref = M.rref()\n",
        "R = np.array((M_rref[0])).astype(np.float64)\n",
        "print(\"\\nThe Row echelon form of matrix M \\n\", R)"
      ]
    },
    {
      "cell_type": "markdown",
      "metadata": {
        "id": "y4rF4fgULE8v"
      },
      "source": [
        "# Question 5. Matrix Multiplication using Different views"
      ]
    },
    {
      "cell_type": "markdown",
      "metadata": {
        "id": "4FUn7YZ6LE8v"
      },
      "source": [
        "we discussed in the lecture four different ways about product $AB = C$ where $A$ and $B$ are arbitry matrices. If $A$ is an $m \\times n$ matrix and $B$ is an $n \\times p$ matrix, then $C$ is an $m \\times p$ matrix:\n",
        "\n",
        "1. **Standard(row times column):** The standard way of describing a matrix product is to say that $c_(ij)$ equals the dot product of row $i$ of matrix $A$ and column $j$ of matrix $B$. \n",
        " \n",
        "2. **Columns:** The product of matrix $A$ and column $j$ of matrix $B$ equals column $j$ of matrix  $C$. This tells us that the columns of $C$ are combinations of columns of $A$.\n",
        "\n",
        "3. **Rows:** The product of row $i$ of matrix $A$ and matrix $B$ equals row $i$ of matrix $C$.So the rows of $C$ are combinations of rows of $B$.\n",
        "\n",
        "4. **Column times row**: A column of $A$ is an $m \\times 1$ vector and a row of $B$ is a $1 \\times p$ vector.Their product is a matrix."
      ]
    },
    {
      "cell_type": "markdown",
      "metadata": {
        "id": "7C3F3J7QLE8w"
      },
      "source": [
        "In this problem we will use python to perform the matrix multiplication using these different ways, and compute the execution time for each method time.\n",
        "\n",
        "(Write your code as a function that perform the multiplication for arbitrary size of the matrices $A$ and $B$)"
      ]
    },
    {
      "cell_type": "code",
      "execution_count": 45,
      "metadata": {
        "id": "zt7dsrdQLE8w"
      },
      "outputs": [],
      "source": [
        "def check_dimension(A, B):\n",
        "    return A.shape[1] == B.shape[0]\n",
        "\n",
        "def mat_mul_standard(A, B):\n",
        "    if not check_dimension(A, B):\n",
        "        raise Exception('Dimensions aren\\'t consistant')\n",
        "        \n",
        "    m, n = A.shape\n",
        "    n, p = B.shape\n",
        "            \n",
        "    C = np.zeros((m, p))\n",
        "    ################type your code here#####################\n",
        "    \n",
        "\n",
        "    ########################################################        \n",
        "    return C\n",
        "\n",
        "\n",
        "def mat_mul_columns(A, B):\n",
        "    if not check_dimension(A, B):\n",
        "        raise Exception('Dimensions aren\\'t consistant')\n",
        "        \n",
        "    m, n = A.shape\n",
        "    n, p = B.shape\n",
        "            \n",
        "    C = np.zeros((m, p))\n",
        "    ################type your code here#####################\n",
        "    \n",
        "\n",
        "    ########################################################         \n",
        "    return C\n",
        "\n",
        "def mat_mul_rows(A, B):\n",
        "    if not check_dimension(A, B):\n",
        "        raise Exception('Dimensions aren\\'t consistant')\n",
        "        \n",
        "    m, n = A.shape\n",
        "    n, p = B.shape\n",
        "            \n",
        "    C = np.zeros((m, p))\n",
        "    ################type your code here#####################\n",
        "    \n",
        "\n",
        "    ########################################################         \n",
        "    return C\n",
        "\n",
        "\n",
        "\n",
        "def mat_mul_column_times_row(A, B):\n",
        "    if not check_dimension(A, B):\n",
        "        raise Exception('Dimensions aren\\'t consistant')\n",
        "        \n",
        "    m, n = A.shape\n",
        "    n, p = B.shape\n",
        "            \n",
        "    C = np.zeros((m, p))\n",
        "    ################type your code here#####################\n",
        "    \n",
        "\n",
        "    ########################################################         \n",
        "    return C"
      ]
    },
    {
      "cell_type": "code",
      "execution_count": 46,
      "metadata": {
        "id": "oioxhlyULE8w"
      },
      "outputs": [],
      "source": [
        "#A = np.array([[12., 7., 3.],[4., 5., 6.],[7., 8., 9.]])\n",
        "#B = np.array([[5., 8., 1., 2.],[6., 7., 3., 0.],[4., 5., 9., 1.]])\n",
        "\n",
        "A = np.fix((10*(np.random.rand(300, 300))))\n",
        "B = np.fix((10*(np.random.rand(300, 300))))"
      ]
    },
    {
      "cell_type": "code",
      "execution_count": 47,
      "metadata": {
        "colab": {
          "base_uri": "https://localhost:8080/"
        },
        "id": "4Lw8eaQXLE8x",
        "outputId": "ec94bc49-c1e3-47a0-fec9-8d249d7b68cc"
      },
      "outputs": [
        {
          "output_type": "stream",
          "name": "stdout",
          "text": [
            "A @ B = \n",
            " [[5800. 6317. 6119. ... 6273. 6122. 6050.]\n",
            " [6668. 6807. 6841. ... 6863. 6416. 6314.]\n",
            " [5916. 6556. 6343. ... 6190. 6037. 5933.]\n",
            " ...\n",
            " [5970. 6437. 6270. ... 6118. 5951. 5844.]\n",
            " [6674. 6684. 7087. ... 7010. 6515. 6333.]\n",
            " [5849. 6241. 6093. ... 6256. 6015. 5975.]]\n",
            "CPU times: user 6.36 ms, sys: 1.01 ms, total: 7.37 ms\n",
            "Wall time: 10.7 ms\n"
          ]
        }
      ],
      "source": [
        "%%time\n",
        "print('A @ B = \\n', A @ B)"
      ]
    },
    {
      "cell_type": "code",
      "execution_count": 48,
      "metadata": {
        "colab": {
          "base_uri": "https://localhost:8080/"
        },
        "id": "RM6B2eflLE8x",
        "outputId": "43dc7338-fbdc-413a-f692-cf2dbd35277b"
      },
      "outputs": [
        {
          "output_type": "stream",
          "name": "stdout",
          "text": [
            "C_standard = \n",
            " [[0. 0. 0. ... 0. 0. 0.]\n",
            " [0. 0. 0. ... 0. 0. 0.]\n",
            " [0. 0. 0. ... 0. 0. 0.]\n",
            " ...\n",
            " [0. 0. 0. ... 0. 0. 0.]\n",
            " [0. 0. 0. ... 0. 0. 0.]\n",
            " [0. 0. 0. ... 0. 0. 0.]]\n",
            "CPU times: user 3 ms, sys: 997 µs, total: 4 ms\n",
            "Wall time: 3.11 ms\n"
          ]
        }
      ],
      "source": [
        "%%time\n",
        "C_standard = mat_mul_standard(A, B)\n",
        "print('C_standard = \\n', C_standard)"
      ]
    },
    {
      "cell_type": "code",
      "execution_count": 49,
      "metadata": {
        "colab": {
          "base_uri": "https://localhost:8080/"
        },
        "id": "tzFcEK6ELE8x",
        "outputId": "e7ac9c37-2736-4f7e-ba55-e7c1e79a40da"
      },
      "outputs": [
        {
          "output_type": "stream",
          "name": "stdout",
          "text": [
            "C_columns = \n",
            " [[0. 0. 0. ... 0. 0. 0.]\n",
            " [0. 0. 0. ... 0. 0. 0.]\n",
            " [0. 0. 0. ... 0. 0. 0.]\n",
            " ...\n",
            " [0. 0. 0. ... 0. 0. 0.]\n",
            " [0. 0. 0. ... 0. 0. 0.]\n",
            " [0. 0. 0. ... 0. 0. 0.]]\n",
            "CPU times: user 4.25 ms, sys: 3.02 ms, total: 7.27 ms\n",
            "Wall time: 12.4 ms\n"
          ]
        }
      ],
      "source": [
        "%%time\n",
        "C_columns = mat_mul_columns(A, B)\n",
        "print('C_columns = \\n', C_columns)"
      ]
    },
    {
      "cell_type": "code",
      "execution_count": 50,
      "metadata": {
        "colab": {
          "base_uri": "https://localhost:8080/"
        },
        "id": "RdXiqgvzLE8y",
        "outputId": "120449e1-ab54-4f19-d9b5-0ec89994ffa5"
      },
      "outputs": [
        {
          "output_type": "stream",
          "name": "stdout",
          "text": [
            "C_rows = \n",
            " [[0. 0. 0. ... 0. 0. 0.]\n",
            " [0. 0. 0. ... 0. 0. 0.]\n",
            " [0. 0. 0. ... 0. 0. 0.]\n",
            " ...\n",
            " [0. 0. 0. ... 0. 0. 0.]\n",
            " [0. 0. 0. ... 0. 0. 0.]\n",
            " [0. 0. 0. ... 0. 0. 0.]]\n",
            "CPU times: user 3.49 ms, sys: 992 µs, total: 4.48 ms\n",
            "Wall time: 5.2 ms\n"
          ]
        }
      ],
      "source": [
        "%%time\n",
        "C_rows = mat_mul_rows(A, B)\n",
        "print('C_rows = \\n', C_rows)"
      ]
    },
    {
      "cell_type": "code",
      "execution_count": 51,
      "metadata": {
        "colab": {
          "base_uri": "https://localhost:8080/"
        },
        "id": "eKUeWBS3LE8y",
        "outputId": "c114ea2f-96c3-46ba-bd44-4a034ad1bcce"
      },
      "outputs": [
        {
          "output_type": "stream",
          "name": "stdout",
          "text": [
            "C_column_times_row = \n",
            " [[0. 0. 0. ... 0. 0. 0.]\n",
            " [0. 0. 0. ... 0. 0. 0.]\n",
            " [0. 0. 0. ... 0. 0. 0.]\n",
            " ...\n",
            " [0. 0. 0. ... 0. 0. 0.]\n",
            " [0. 0. 0. ... 0. 0. 0.]\n",
            " [0. 0. 0. ... 0. 0. 0.]]\n",
            "CPU times: user 3.6 ms, sys: 7 µs, total: 3.61 ms\n",
            "Wall time: 2.96 ms\n"
          ]
        }
      ],
      "source": [
        "%%time\n",
        "C_column_times_row = mat_mul_column_times_row(A, B)\n",
        "print('C_column_times_row = \\n', C_column_times_row)"
      ]
    }
  ],
  "metadata": {
    "kernelspec": {
      "display_name": "Python 3 (ipykernel)",
      "language": "python",
      "name": "python3"
    },
    "language_info": {
      "codemirror_mode": {
        "name": "ipython",
        "version": 3
      },
      "file_extension": ".py",
      "mimetype": "text/x-python",
      "name": "python",
      "nbconvert_exporter": "python",
      "pygments_lexer": "ipython3",
      "version": "3.7.0"
    },
    "colab": {
      "name": "Hager_Nasser_AI_Mansoura.ipynb",
      "provenance": []
    }
  },
  "nbformat": 4,
  "nbformat_minor": 0
}