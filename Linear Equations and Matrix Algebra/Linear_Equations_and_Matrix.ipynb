{
 "cells": [
  {
   "cell_type": "markdown",
   "metadata": {},
   "source": [
    "# LAB 2: Linear Equations and Matrix Algebra\n",
    "\n",
    "In this lab you will use python to study the following topics:\n",
    "\n",
    "- Solving a system of linear equations by using the reduced row echelon form of the augmented matrix of the system.\n",
    "\n",
    "- Forming linear combinations of a set of vectors and the fundamental concepts of linear independence.\n",
    "\n",
    "- Matrix multiplication and its properties."
   ]
  },
  {
   "cell_type": "markdown",
   "metadata": {},
   "source": [
    "# First: you should run this cell"
   ]
  },
  {
   "cell_type": "code",
   "execution_count": 337,
   "metadata": {},
   "outputs": [],
   "source": [
    "# Make all numpy available via shorter 'np' prefix\n",
    "import numpy as np\n",
    "# Make all sympy available via shorter 'sym' prefix\n",
    "import sympy as sym\n",
    "\n",
    "# matplotlib library\n",
    "import matplotlib.pyplot as plt\n",
    "from matplotlib import cm\n",
    "from matplotlib.ticker import LinearLocator\n",
    "\n",
    "def rvect(m):\n",
    "    return np.fix((10 * (np.random.rand(m, 1))))\n",
    "\n",
    "def rmat(m, n):\n",
    "    return np.fix((10 * (np.random.rand(m, n))))\n",
    "\n",
    "def rref(A):\n",
    "    return np.array(sym.Matrix(A).rref(iszerofunc=lambda x:sym.comp(x,0,1e-13))[0], np.float64)\n",
    "\n",
    "def nulbasis(A):\n",
    "    A = sym.Matrix(A)\n",
    "    tmp =  A.nullspace()\n",
    "    n = len(tmp)\n",
    "    m = len(tmp[0])\n",
    "    N = np.zeros((m,n))\n",
    "    for i in range(m):\n",
    "        for j in range(n):\n",
    "                N[i,j] = tmp[j][i] \n",
    "    return N"
   ]
  },
  {
   "cell_type": "markdown",
   "metadata": {},
   "source": [
    "# Question 1. Solving Ax = b"
   ]
  },
  {
   "cell_type": "markdown",
   "metadata": {},
   "source": [
    "In this question you will find the general solution $x \\in R^3$ to a linear system $Ax = b$ of 3 equations in 5\n",
    "variables $x_1, x_2, x_3, x_4, x_5$. Here $A$ is the $3 \\times 5$ coeffient matrix system $b \\in R^3$ is the given right-hand side of the system"
   ]
  },
  {
   "cell_type": "markdown",
   "metadata": {},
   "source": [
    "<h4> \n",
    "    (a) Use rmat function that was defined in the first cell to generate a random $3 \\times5$ integer matrix $A$ and to check that columns 1, 2, 3 of $A$ are the pivot columns.\n",
    "</h4>\n",
    "\n",
    "- `A = rmat(3, 5)`\n",
    "- `np.linalg.matrix_rank(A[:, 0:3])`\n"
   ]
  },
  {
   "cell_type": "code",
   "execution_count": 338,
   "metadata": {},
   "outputs": [
    {
     "name": "stdout",
     "output_type": "stream",
     "text": [
      "A = \n",
      " [[9 9 2 1 7]\n",
      " [7 9 6 9 3]\n",
      " [1 9 0 0 4]]\n",
      "\n",
      "rank(A) =  3\n"
     ]
    }
   ],
   "source": [
    "#type your code here:\n",
    "A = np.array ([ [9, 9, 2, 1, 7], [7, 9, 6, 9, 3], [1, 9, 0, 0, 4] ])\n",
    "print(\"A = \\n\", A)\n",
    "print(\"\\nrank(A) = \", np.linalg.matrix_rank(A[:, 0:3]))"
   ]
  },
  {
   "cell_type": "markdown",
   "metadata": {},
   "source": [
    "Note the use of the colon operator to select columns 1, 2, 3 of $A$. If the rank is less than 3, generate a new A\n",
    "(this is unlikely, but it can happen). Include all the matrices that you generate this way in your lab report.\n",
    "<h4>\n",
    "When you have an $A$ for which the rank of the first three columns is 3:\n",
    "</h4>\n",
    "\n",
    "- Generate a random vector $b \\in R^3$\n",
    "\n",
    "- The reduced row echelon form R of the augmented matrix $\\begin{bmatrix} A & b   \\end{bmatrix}$:\n"
   ]
  },
  {
   "cell_type": "code",
   "execution_count": 339,
   "metadata": {},
   "outputs": [
    {
     "name": "stdout",
     "output_type": "stream",
     "text": [
      "b = \n",
      " [[5]\n",
      " [8]\n",
      " [2]]\n",
      "\n",
      "augmented matrix = \n",
      " [[9 9 2 1 7 5]\n",
      " [7 9 6 9 3 8]\n",
      " [1 9 0 0 4 2]]\n",
      "\n",
      "R = \n",
      " [[ 1.          0.          0.         -0.33333333  0.55555556  0.16666667]\n",
      " [ 0.          1.          0.          0.03703704  0.38271605  0.2037037 ]\n",
      " [ 0.          0.          1.          1.83333333 -0.72222222  0.83333333]]\n"
     ]
    }
   ],
   "source": [
    "#type your code here:\n",
    "b = np.array([[5], [8], [2]])\n",
    "print(\"b = \\n\", b)\n",
    "augmented = np.block([A, b])\n",
    "print(\"\\naugmented matrix = \\n\", augmented)\n",
    "R = rref(augmented)\n",
    "print(\"\\nR = \\n\", R)"
   ]
  },
  {
   "cell_type": "markdown",
   "metadata": {},
   "source": [
    "<h4>\n",
    "     To get the reduced row echelon form S = rref(A) just remove the last column from R:\n",
    "</h4>\n",
    "\n",
    "- `S = R[:, :-1] or R[:, 0:5]`\n"
   ]
  },
  {
   "cell_type": "code",
   "execution_count": 340,
   "metadata": {},
   "outputs": [
    {
     "name": "stdout",
     "output_type": "stream",
     "text": [
      "S = \n",
      " [[ 1.          0.          0.         -0.33333333  0.55555556]\n",
      " [ 0.          1.          0.          0.03703704  0.38271605]\n",
      " [ 0.          0.          1.          1.83333333 -0.72222222]]\n"
     ]
    }
   ],
   "source": [
    "#type your code here:\n",
    "S = R[:, :-1] \n",
    "print(\"S = \\n\", S)"
   ]
  },
  {
   "cell_type": "markdown",
   "metadata": {},
   "source": [
    "(Note the use of the colon operator to select columns 1 to 5 of R).\n",
    "<h4>Check by python that S = rref(A)</h4>"
   ]
  },
  {
   "cell_type": "code",
   "execution_count": 341,
   "metadata": {},
   "outputs": [
    {
     "name": "stdout",
     "output_type": "stream",
     "text": [
      "rref(A) = \n",
      " [[ 1.          0.          0.         -0.33333333  0.55555556]\n",
      " [ 0.          1.          0.          0.03703704  0.38271605]\n",
      " [ 0.          0.          1.          1.83333333 -0.72222222]]\n"
     ]
    }
   ],
   "source": [
    "#type your code here:\n",
    "print(\"rref(A) = \\n\", rref(A))"
   ]
  },
  {
   "cell_type": "markdown",
   "metadata": {},
   "source": [
    "1. Which columns of $S$ are the pivot columns? -----> 1st, 2nd and 3rd columns\n",
    "2. What is the rank of $R$ and the rank of $A$? -----> rank = 3\n",
    "3. What is the nullity of $A$ and which variables $x_i$ are be the free variables? -----> 2 free variables\n",
    "4. Why does the equation $Ax = b$ have a solution?\n",
    "\n"
   ]
  },
  {
   "cell_type": "markdown",
   "metadata": {},
   "source": [
    "#### Print the rank of A, R, and S matrices"
   ]
  },
  {
   "cell_type": "code",
   "execution_count": 342,
   "metadata": {},
   "outputs": [
    {
     "name": "stdout",
     "output_type": "stream",
     "text": [
      "rank(A) =  3\n",
      "\n",
      "rank(R) =  3\n",
      "\n",
      "rank(S) =  3\n"
     ]
    }
   ],
   "source": [
    "#type your code here:\n",
    "print(\"rank(A) = \", np.linalg.matrix_rank(A))\n",
    "print(\"\\nrank(R) = \", np.linalg.matrix_rank(R))\n",
    "print(\"\\nrank(S) = \", np.linalg.matrix_rank(S))"
   ]
  },
  {
   "cell_type": "markdown",
   "metadata": {},
   "source": [
    "#### (b) Use python to obtain (the last column of $R$), `c = R[:, [-1]]`. set `x = np.block([[c], [0], [0]])`. $x \\in R^5$ and the last two components of $x$ are zeros. then:\n",
    "\n",
    "\n",
    "- Calculate by python that $Ax - b = 0$ and $Sx - c = 0$.\n",
    "\n",
    "\n"
   ]
  },
  {
   "cell_type": "code",
   "execution_count": 343,
   "metadata": {},
   "outputs": [
    {
     "name": "stdout",
     "output_type": "stream",
     "text": [
      "c = \n",
      " [[0.16666667]\n",
      " [0.2037037 ]\n",
      " [0.83333333]]\n",
      "\n",
      "x = \n",
      " [[0.16666667]\n",
      " [0.2037037 ]\n",
      " [0.83333333]\n",
      " [0.        ]\n",
      " [0.        ]]\n",
      "\n",
      "Ax - b = \n",
      " [[ 0.0000000e+00]\n",
      " [-8.8817842e-16]\n",
      " [ 0.0000000e+00]]\n",
      "\n",
      "Sx - c = \n",
      " [[0.]\n",
      " [0.]\n",
      " [0.]]\n"
     ]
    }
   ],
   "source": [
    "#type your code here:\n",
    "c = R[:, [-1]]\n",
    "print(\"c = \\n\", c)\n",
    "x = np.block([[c], [0], [0]])\n",
    "print(\"\\nx = \\n\", x)\n",
    "print(\"\\nAx - b = \\n\", (A @ x) - b)\n",
    "print(\"\\nSx - c = \\n\", (S @ x) - c)"
   ]
  },
  {
   "cell_type": "markdown",
   "metadata": {},
   "source": [
    "#### (c) Use python to calculate\n",
    "\n",
    "- `u = np.block([[-S[:, [3]]], [1], [0]])`\n",
    "- `v = np.block([[-S[:, [4]]], [0], [1]])`\n",
    "\n",
    "\n",
    "1. Give a handwritten explanation, using symbols and linear algebra, rather than numbers, to show why u and v are the vectors that appear in the vector form of the general solution to Ax = 0.\n",
    "    - Confirm by calculating `S @ u`, `A @ u`, `S @ v`, `A @ v`. You should get vectors that are (approximately) zero.\n",
    "    - Now generate a random linear combination of u and v by the commands `s = np.random.rand(1)`, `t = np.random.rand(1)`, and `y = s * u + t * v` (Note that each occurrence of np.random.rand(1) generates a different random coefficient).\n",
    "\n",
    "2. What properties of matrix and vector algebra ensure that Ay = 0?\n",
    "    - Confirm by a python calculation that `A @ y` is approximately zero. \n",
    "\n",
    "\n",
    "\n",
    "\n",
    "\n"
   ]
  },
  {
   "cell_type": "code",
   "execution_count": 344,
   "metadata": {},
   "outputs": [
    {
     "name": "stdout",
     "output_type": "stream",
     "text": [
      "u = \n",
      " [[ 0.33333333]\n",
      " [-0.03703704]\n",
      " [-1.83333333]\n",
      " [ 1.        ]\n",
      " [ 0.        ]]\n",
      "\n",
      "v = \n",
      " [[-0.55555556]\n",
      " [-0.38271605]\n",
      " [ 0.72222222]\n",
      " [ 0.        ]\n",
      " [ 1.        ]]\n",
      "\n",
      "S @ u = \n",
      " [[0.]\n",
      " [0.]\n",
      " [0.]]\n",
      "\n",
      "A @ u = \n",
      " [[ 2.22044605e-16]\n",
      " [-1.77635684e-15]\n",
      " [ 0.00000000e+00]]\n",
      "\n",
      "S @ v = \n",
      " [[0.]\n",
      " [0.]\n",
      " [0.]]\n",
      "\n",
      "A @ v = \n",
      " [[ 4.4408921e-16]\n",
      " [-4.4408921e-16]\n",
      " [ 4.4408921e-16]]\n",
      "\n",
      "A @ y = \n",
      " [[-4.4408921e-16]\n",
      " [-8.8817842e-16]\n",
      " [ 0.0000000e+00]]\n"
     ]
    }
   ],
   "source": [
    "#type your code here:\n",
    "u = np.block([[-S[:, [3]]], [1], [0]])\n",
    "print(\"u = \\n\", u)\n",
    "v = np.block([[-S[:, [4]]], [0], [1]])\n",
    "print(\"\\nv = \\n\", v)\n",
    "print(\"\\nS @ u = \\n\", S @ u)\n",
    "print(\"\\nA @ u = \\n\", A @ u)\n",
    "print(\"\\nS @ v = \\n\", S @ v)\n",
    "print(\"\\nA @ v = \\n\", A @ v)\n",
    "\n",
    "s = np.random.rand(1)\n",
    "t = np.random.rand(1)\n",
    "y = s * u + t * v\n",
    "print(\"\\nA @ y = \\n\", A @ y)"
   ]
  },
  {
   "cell_type": "markdown",
   "metadata": {},
   "source": [
    "#### (d) Use python to calculate `z = x + y` .\n",
    "- What properties of matrix and vector algebra imply that $Az = b$?\n",
    "- Confirm by a python calculation that `A @ z - b` is approximately zero."
   ]
  },
  {
   "cell_type": "code",
   "execution_count": 345,
   "metadata": {},
   "outputs": [
    {
     "name": "stdout",
     "output_type": "stream",
     "text": [
      "A @ z - b = \n",
      " [[-8.8817842e-16]\n",
      " [ 0.0000000e+00]\n",
      " [ 0.0000000e+00]]\n"
     ]
    }
   ],
   "source": [
    "#type your code here:\n",
    "z = x + y\n",
    "print(\"A @ z - b = \\n\", A @ z - b)"
   ]
  },
  {
   "cell_type": "markdown",
   "metadata": {},
   "source": [
    "# Question 2. Spanning Sets and Linear Independence"
   ]
  },
  {
   "cell_type": "markdown",
   "metadata": {},
   "source": [
    "#### Generate four random vectors in R3 by the command\n",
    "- `u1 = rvect(3)`\n",
    "- `u2 = rvect(3)`\n",
    "- `u3 = rvect(3)`\n",
    "- `u4 = rvect(3)`\n",
    "\n",
    "\n",
    "\n",
    "\n",
    "#### (a) Consider the set of vectors S = {u1, u2, u3}. To determine whether S is linearly independent, form the matrix A with the vectors from S as columns and calculate its reduced row echelon form\n",
    "- `A = np.block([u1, u2, u3])`\n",
    "- `rref(A)`\n",
    "\n",
    "#### Use these calculations to answer the following questions:\n",
    "\n",
    "1. How many free variables does the equation Ax = 0 have? \n",
    "-----> No. of free variables = 0\n",
    "\n",
    "2. Is the set S linearly independent or linearly dependent? Why?\n",
    "-----> Lineary independent, No zeros raw/column"
   ]
  },
  {
   "cell_type": "code",
   "execution_count": 346,
   "metadata": {},
   "outputs": [
    {
     "name": "stdout",
     "output_type": "stream",
     "text": [
      "A = \n",
      " [[0 3 3]\n",
      " [2 7 2]\n",
      " [8 0 0]]\n",
      "\n",
      "rref(A) = \n",
      " [[1. 0. 0.]\n",
      " [0. 1. 0.]\n",
      " [0. 0. 1.]]\n"
     ]
    }
   ],
   "source": [
    "####type your code here:\n",
    "u1 = np.array([ [0], [2], [8] ])\n",
    "u2 = np.array([ [3], [7], [0] ])\n",
    "u3 = np.array([ [3], [2], [0] ])\n",
    "u4 = np.array([ [1], [4], [2] ])\n",
    "\n",
    "A = np.block([u1, u2, u3])\n",
    "print(\"A = \\n\", A)\n",
    "\n",
    "print(\"\\nrref(A) = \\n\", rref(A))"
   ]
  },
  {
   "cell_type": "markdown",
   "metadata": {},
   "source": [
    "#### (b) Consider the set of vectors T = {u1, u2, u3, u4}. To determine whether T is linearly independent, form the matrix B with the vectors from T as columns and calculate its reduced row echelon form:\n",
    "\n",
    "- `B = [u1 u2 u3 u4]`\n",
    "- `rref(B)`\n",
    "\n",
    "#### Use these calculations to answer the following questions:\n",
    "\n",
    "1. How many free variables does the equation $Bx = 0$ have?\n",
    "-----> No. of free variables = 1\n",
    "\n",
    "2. Is the set S linearly independent or linearly dependent? Why?\n",
    "-----> Lineary dependent, we have 4 vector in R3 (4th vector can combute using other 3 vetors)"
   ]
  },
  {
   "cell_type": "code",
   "execution_count": 347,
   "metadata": {},
   "outputs": [
    {
     "name": "stdout",
     "output_type": "stream",
     "text": [
      "B = \n",
      " [[0 3 3 1]\n",
      " [2 7 2 4]\n",
      " [8 0 0 2]]\n",
      "\n",
      "rref(B) = \n",
      " [[ 1.          0.          0.          0.25      ]\n",
      " [ 0.          1.          0.          0.56666667]\n",
      " [ 0.          0.          1.         -0.23333333]]\n"
     ]
    }
   ],
   "source": [
    "#type your code here:\n",
    "B = np.block([u1, u2, u3, u4])\n",
    "print(\"B = \\n\", B)\n",
    "\n",
    "print(\"\\nrref(B) = \\n\", rref(B))"
   ]
  },
  {
   "cell_type": "markdown",
   "metadata": {},
   "source": [
    "#### (c) Let v be a random linear combination of u1 and u2:\n",
    "\n",
    "- `v = np.random.rand(1) * u1 + np.random.rand(1) * u2`\n",
    "\n",
    "#### Thus v is of the form c1u1 + c2u2 for some scalars c1, c2. Consider the set of vectors U = {u1, u2, v}.\n",
    "\n",
    "1. Is the set U linearly independent or linearly dependent?\n",
    "-----> Lineary dependent, we have raw of zeros\n",
    "2. Answer first without calculation using the definition of linear independent sets.\n",
    "-----> Lineary dependent, as v calculated using u1 and u2\n",
    "\n"
   ]
  },
  {
   "cell_type": "markdown",
   "metadata": {},
   "source": [
    "#### Check your answer by python using the method of part (a)."
   ]
  },
  {
   "cell_type": "code",
   "execution_count": 348,
   "metadata": {},
   "outputs": [
    {
     "name": "stdout",
     "output_type": "stream",
     "text": [
      "U = \n",
      " [[0.         3.         0.08808317]\n",
      " [2.         7.         1.0537827 ]\n",
      " [8.         0.         3.39302126]]\n",
      "\n",
      "rref(U) = \n",
      " [[1.         0.         0.42412766]\n",
      " [0.         1.         0.02936106]\n",
      " [0.         0.         0.        ]]\n"
     ]
    }
   ],
   "source": [
    "#type your code here:\n",
    "v = np.random.rand(1) * u1 + np.random.rand(1) * u2\n",
    "U = np.block([u1, u2, v])\n",
    "print(\"U = \\n\", U)\n",
    "\n",
    "print(\"\\nrref(U) = \\n\", rref(U))"
   ]
  },
  {
   "cell_type": "markdown",
   "metadata": {},
   "source": [
    "# Question 3 :Visualizing the Column Space"
   ]
  },
  {
   "cell_type": "markdown",
   "metadata": {},
   "source": [
    "In this question you will determine visually whether given vectors lie in the column space of a matrix.\n",
    "Random Seed: Initialize the random number generator by typing\n",
    "rand(’seed’, abcd)\n",
    "where abcd are the last four digits of your student ID number. This will ensure that you generate your own\n",
    "particular random vectors and matrices.\n",
    "\n",
    "#### Now generate a random $3 \\times 2$ integer matrix $A$ by the python and calculate rank(A). Since $A$ is a random matrix, the rank is very likely to be 2. If the rank is not 2, generate another A. Repeat the test until you get a matrix with rank 2.\n",
    "\n",
    "- `A = rmat(3, 2)`\n",
    "- `np.linalg.matrix_rank(A)`\n"
   ]
  },
  {
   "cell_type": "code",
   "execution_count": 349,
   "metadata": {},
   "outputs": [
    {
     "name": "stdout",
     "output_type": "stream",
     "text": [
      "A = \n",
      " [[7 8]\n",
      " [5 6]\n",
      " [3 8]]\n",
      "\n",
      "rank(A) =  2\n"
     ]
    }
   ],
   "source": [
    "#type your code here:\n",
    "A = np.array([ [7, 8], [5, 6], [3, 8] ])\n",
    "print(\"A = \\n\", A)\n",
    "print(\"\\nrank(A) = \", np.linalg.matrix_rank(A))"
   ]
  },
  {
   "cell_type": "markdown",
   "metadata": {},
   "source": [
    "#### Use this matrix in the rest of the question. If you need to generate more than one matrix, include all the matrices you generate in your lab report.\n",
    "\n",
    "#### (a) Define `u = A[:,[0]]`, `v = A[:,[1]]` to be the column vectors for A. To graph the column space Col(A) of A, enter the python commands:\n",
    "- `s, t = np.meshgrid(np.arange(-1, 1, 0.1), np.arange(-1, 1, 0.1))`\n",
    "- `X = s * u[0] + t * v[0]`\n",
    "- `Y = s * u[1] + t * v[1]`\n",
    "- `Z = s * u[2] + t * v[2]`\n",
    "- Use matplotlib to graph the cloumn space using `plot_surface` as in this [example](https://matplotlib.org/gallery/mplot3d/surface3d.html#sphx-glr-gallery-mplot3d-surface3d-py)\n",
    "- Set graph axis limit -10, 10.\n",
    "- Set the color map of the graph to `cm.hot`."
   ]
  },
  {
   "cell_type": "code",
   "execution_count": 350,
   "metadata": {},
   "outputs": [
    {
     "name": "stdout",
     "output_type": "stream",
     "text": [
      "u = \n",
      " [[7]\n",
      " [5]\n",
      " [3]]\n",
      "\n",
      "v = \n",
      " [[8]\n",
      " [6]\n",
      " [8]]\n"
     ]
    },
    {
     "data": {
      "image/png": "[encoded data removed]",
      "text/plain": [
       "<Figure size 432x288 with 2 Axes>"
      ]
     },
     "metadata": {
      "needs_background": "light"
     },
     "output_type": "display_data"
    }
   ],
   "source": [
    "#type your code here\n",
    "u = A[:,[0]]\n",
    "v = A[:,[1]]\n",
    "\n",
    "print(\"u = \\n\", u)\n",
    "print(\"\\nv = \\n\", v)\n",
    "\n",
    "s, t = np.meshgrid(np.arange(-1, 1, 0.1), np.arange(-1, 1, 0.1))\n",
    "X = s * u[0] + t * v[0]\n",
    "Y = s * u[1] + t * v[1]\n",
    "Z = s * u[2] + t * v[2]\n",
    "\n",
    "fig, ax = plt.subplots(subplot_kw={\"projection\": \"3d\"})\n",
    "\n",
    "# Plot the surface.\n",
    "surf = ax.plot_surface(X, Y, Z, cmap=cm.coolwarm_r, linewidth=0, antialiased=False)\n",
    "\n",
    "# Add a color bar which maps values to colors.\n",
    "fig.colorbar(surf, shrink=0.5, aspect=5)\n",
    "\n",
    "plt.show()"
   ]
  },
  {
   "cell_type": "markdown",
   "metadata": {},
   "source": [
    "#### (b) Generate a random vector in R3 using the `rvect` function\n",
    "- b = rvect(3)"
   ]
  },
  {
   "cell_type": "code",
   "execution_count": 351,
   "metadata": {},
   "outputs": [
    {
     "name": "stdout",
     "output_type": "stream",
     "text": [
      "b = \n",
      " [[2]\n",
      " [2]\n",
      " [9]]\n"
     ]
    }
   ],
   "source": [
    "#type your code here:\n",
    "b = np.array([ [2], [2], [9] ])\n",
    "print(\"b = \\n\", b)"
   ]
  },
  {
   "cell_type": "markdown",
   "metadata": {},
   "source": [
    "#### To graph the line Span(b) in the same figure as Col(A):\n",
    "- Copy the previous code that was used to graph Col(A)\n",
    "- Generate array r. `r = np.arange(-1, 1, 0.05)`\n",
    "- Plot the span(b). `ax.plot(r * b[0], r * b[1], r * b[2], 'b+', markersize=20)`\n",
    "- Note that the previous step should be before plt.show() to plot on the same figure.\n",
    "- Use `ax.view_init(45, 45)` change the values 45, 45 to rotate the figure to different view."
   ]
  },
  {
   "cell_type": "code",
   "execution_count": 352,
   "metadata": {},
   "outputs": [
    {
     "data": {
      "image/png": "[encoded data removed]",
      "text/plain": [
       "<Figure size 432x288 with 2 Axes>"
      ]
     },
     "metadata": {
      "needs_background": "light"
     },
     "output_type": "display_data"
    }
   ],
   "source": [
    "#type your code here:\n",
    "s, t = np.meshgrid(np.arange(-1, 1, 0.1), np.arange(-1, 1, 0.1))\n",
    "X = s * u[0] + t * v[0]\n",
    "Y = s * u[1] + t * v[1]\n",
    "Z = s * u[2] + t * v[2]\n",
    "\n",
    "fig, ax = plt.subplots(subplot_kw={\"projection\": \"3d\"})\n",
    "\n",
    "# Plot the surface.\n",
    "surf = ax.plot_surface(X, Y, Z, cmap=cm.coolwarm_r, linewidth=0, antialiased=False)\n",
    "\n",
    "r = np.arange(-1, 1, 0.05)\n",
    "ax.plot(r * b[0], r * b[1], r * b[2], 'b+', markersize=20)\n",
    "\n",
    "# Add a color bar which maps values to colors.\n",
    "fig.colorbar(surf, shrink=0.5, aspect=5)\n",
    "\n",
    "plt.show()"
   ]
  },
  {
   "cell_type": "markdown",
   "metadata": {},
   "source": [
    "#### (c) Can you find a vector $x \\in R^2$ such that $Ax = b$, where $A$ is the matrix and $b$ is the vector that you have generated? Explain why or why not using the graph from part (b).\n"
   ]
  },
  {
   "cell_type": "markdown",
   "metadata": {},
   "source": [
    "### -------------------------------------Type your answer here------------------------------------------------------------ ###\n",
    "\n",
    "\n",
    "\n",
    "### ---------------------------------------------------------------------------------------------------------------------------------- ###"
   ]
  },
  {
   "cell_type": "markdown",
   "metadata": {},
   "source": [
    "#### (d) Generate a random vector lying in Col(A) where:\n",
    "\n",
    "- `z = np.random.rand(2, 1)`\n",
    "- `c = A @ z`"
   ]
  },
  {
   "cell_type": "code",
   "execution_count": 353,
   "metadata": {},
   "outputs": [
    {
     "name": "stdout",
     "output_type": "stream",
     "text": [
      "c = \n",
      " [[10.36107194]\n",
      " [ 7.66299204]\n",
      " [ 8.63608141]]\n"
     ]
    }
   ],
   "source": [
    "#type your code here:\n",
    "z = np.random.rand(2, 1)\n",
    "c = A @ z\n",
    "print(\"c = \\n\", c)"
   ]
  },
  {
   "cell_type": "markdown",
   "metadata": {},
   "source": [
    "#### Plot a new graph of Span(c) and Col(A)"
   ]
  },
  {
   "cell_type": "code",
   "execution_count": 354,
   "metadata": {},
   "outputs": [
    {
     "data": {
      "image/png": "[encoded data removed]",
      "text/plain": [
       "<Figure size 432x288 with 2 Axes>"
      ]
     },
     "metadata": {
      "needs_background": "light"
     },
     "output_type": "display_data"
    }
   ],
   "source": [
    "#type your code here\n",
    "s, t = np.meshgrid(np.arange(-1, 1, 0.1), np.arange(-1, 1, 0.1))\n",
    "X = s * u[0] + t * v[0]\n",
    "Y = s * u[1] + t * v[1]\n",
    "Z = s * u[2] + t * v[2]\n",
    "\n",
    "fig, ax = plt.subplots(subplot_kw={\"projection\": \"3d\"})\n",
    "\n",
    "# Plot the surface.\n",
    "surf = ax.plot_surface(X, Y, Z, cmap=cm.coolwarm_r, linewidth=0, antialiased=False)\n",
    "\n",
    "r = np.arange(-1, 1, 0.05)\n",
    "ax.plot(r * c[0], r * c[1], r * c[2], 'c+', markersize=20)\n",
    "\n",
    "# Add a color bar which maps values to colors.\n",
    "fig.colorbar(surf, shrink=0.5, aspect=5)\n",
    "\n",
    "plt.show()"
   ]
  },
  {
   "cell_type": "markdown",
   "metadata": {},
   "source": [
    "# Question 4: Reduced Row Echelon Form and Null Space"
   ]
  },
  {
   "cell_type": "markdown",
   "metadata": {},
   "source": [
    "#### First generate a random $3 \\times 3$ integer matrix $B$ and check its rank:\n",
    "- `B = rmat(3, 3)`\n",
    "- `np.linalg.matrix_rank(B)`"
   ]
  },
  {
   "cell_type": "code",
   "execution_count": 355,
   "metadata": {},
   "outputs": [
    {
     "name": "stdout",
     "output_type": "stream",
     "text": [
      "B = \n",
      " [[1 8 7]\n",
      " [8 8 8]\n",
      " [8 0 1]]\n",
      "\n",
      "rank(B) =  3\n"
     ]
    }
   ],
   "source": [
    "#type your code here:\n",
    "B = np.array([ [1, 8, 7], [8, 8, 8], [8, 0, 1] ])\n",
    "print(\"B = \\n\", B)\n",
    "print(\"\\nrank(B) = \", np.linalg.matrix_rank(B))"
   ]
  },
  {
   "cell_type": "markdown",
   "metadata": {},
   "source": [
    "#### Since $B$ is random, it is very likely to have rank $3$. If not, generate another $B$ until this is true. Now use $B$ to define a $3 \\times 5$ matrix $A$ and its reduced row echelon form $R$ by\n",
    "\n",
    "- `A = np.block([B[:, [0]], B[:, [1]], 2 * B[:, [0]] + 3 * B[:, [1]], 4 * B[:, [0]] - 5 * B[:, [1]], B[:, [2]]])`\n",
    "- `R = rref(A)`\n",
    "\n",
    "#### (a) Use the definition of $A$ in terms of $B$ and the Column Correspondence Property to answer the following.\n",
    "\n",
    "- Explain why columns #1, #2, and #5 are the pivot columns of A and R."
   ]
  },
  {
   "cell_type": "code",
   "execution_count": 356,
   "metadata": {},
   "outputs": [
    {
     "name": "stdout",
     "output_type": "stream",
     "text": [
      "A = \n",
      " [[  1   8  26 -36   7]\n",
      " [  8   8  40  -8   8]\n",
      " [  8   0  16  32   1]]\n",
      "\n",
      "R = \n",
      " [[ 1.  0.  2.  4.  0.]\n",
      " [ 0.  1.  3. -5.  0.]\n",
      " [ 0.  0.  0.  0.  1.]]\n"
     ]
    }
   ],
   "source": [
    "#type your code here:\n",
    "A = np.block([B[:, [0]], B[:, [1]], 2 * B[:, [0]] + 3 * B[:, [1]], 4 * B[:, [0]] - 5 * B[:, [1]], B[:, [2]]])\n",
    "print(\"A = \\n\", A)\n",
    "R = rref(A)\n",
    "print(\"\\nR = \\n\", R)"
   ]
  },
  {
   "cell_type": "markdown",
   "metadata": {},
   "source": [
    "#### (b) Let $V$ be the set of solutions to the homogeneous system of equations $Ax = 0$ (the null space of $A$). In the equation $Ax = 0$ (where $x \\in R^5$), \n",
    "\n",
    "- what are the free variables and what is dim V ?"
   ]
  },
  {
   "cell_type": "markdown",
   "metadata": {},
   "source": [
    "#### (c) Use the python function that was defined in the first cell `nulbasis` to calculate the special solutions to the system of equations $Ax = 0$:\n",
    "\n",
    "- `N = nulbasis(A)`\n",
    "\n",
    "#### The columns of $N$ are the solutions to $Ax = 0$ obtained by setting one free variable to 1 and all the other free variables to 0. Define:\n",
    "- `v1 = N[:,[0]]`\n",
    "- `v2 = N[:,[1]]`\n",
    "\n",
    "(Notice that `v1` and `v2` are 5-component vectors, not scalars.)\n",
    "\n",
    "1. Which component of v1 is 1 and which components of v1 are zero?\n",
    "\n",
    "2. Which component of v2 is 1 and which components of v2 are zero?\n",
    "\n",
    "3. Check by python that v1 and v2 are in null space of A."
   ]
  },
  {
   "cell_type": "code",
   "execution_count": 357,
   "metadata": {},
   "outputs": [
    {
     "name": "stdout",
     "output_type": "stream",
     "text": [
      "N = \n",
      " [[-2. -4.]\n",
      " [-3.  5.]\n",
      " [ 1.  0.]\n",
      " [ 0.  1.]\n",
      " [ 0.  0.]]\n",
      "\n",
      "v1 = \n",
      " [[-2.]\n",
      " [-3.]\n",
      " [ 1.]\n",
      " [ 0.]\n",
      " [ 0.]]\n",
      "\n",
      "v2 = \n",
      " [[-4.]\n",
      " [ 5.]\n",
      " [ 0.]\n",
      " [ 1.]\n",
      " [ 0.]]\n",
      "\n",
      "A @ v1 = \n",
      " [[0.]\n",
      " [0.]\n",
      " [0.]]\n",
      "\n",
      "A @ v2 = \n",
      " [[0.]\n",
      " [0.]\n",
      " [0.]]\n"
     ]
    }
   ],
   "source": [
    "#type your code here:\n",
    "N = nulbasis(A)\n",
    "print(\"N = \\n\", N)\n",
    "v1 = N[:,[0]]\n",
    "print(\"\\nv1 = \\n\", v1)\n",
    "v2 = N[:,[1]]\n",
    "print(\"\\nv2 = \\n\", v2)\n",
    "print(\"\\nA @ v1 = \\n\", A @ v1)\n",
    "print(\"\\nA @ v2 = \\n\", A @ v2)"
   ]
  },
  {
   "cell_type": "markdown",
   "metadata": {},
   "source": [
    "#### (d) Now generate a random linear combination `x` of the vectors `v1` and `v2`:\n",
    "- `s = np.random.rand(1)` \n",
    "- `t = np.random.rand(1)` \n",
    "- `x = s * v1 + t * v2`\n",
    "\n",
    "(Note that each occurrence of rand(1) generates a different random coefficient).\n",
    "\n",
    "- Confirm by python that $x$ satisfies $Ax = 0$ and $Rx = 0$."
   ]
  },
  {
   "cell_type": "code",
   "execution_count": 379,
   "metadata": {},
   "outputs": [
    {
     "name": "stdout",
     "output_type": "stream",
     "text": [
      "\n",
      "A @ x = \n",
      " [[0.]\n",
      " [0.]\n",
      " [0.]]\n",
      "\n",
      "R @ x = \n",
      " [[0.]\n",
      " [0.]\n",
      " [0.]]\n"
     ]
    }
   ],
   "source": [
    "#type your code here:\n",
    "s = np.random.rand(1) \n",
    "t = np.random.rand(1) \n",
    "x = s * v1 + t * v2\n",
    "print(\"\\nA @ x = \\n\", A @ x)\n",
    "print(\"\\nR @ x = \\n\", R @ x)"
   ]
  }
 ],
 "metadata": {
  "kernelspec": {
   "display_name": "Python 3 (ipykernel)",
   "language": "python",
   "name": "python3"
  },
  "language_info": {
   "codemirror_mode": {
    "name": "ipython",
    "version": 3
   },
   "file_extension": ".py",
   "mimetype": "text/x-python",
   "name": "python",
   "nbconvert_exporter": "python",
   "pygments_lexer": "ipython3",
   "version": "3.7.0"
  }
 },
 "nbformat": 4,
 "nbformat_minor": 4
}
