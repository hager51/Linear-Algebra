{
 "cells": [
  {
   "cell_type": "markdown",
   "metadata": {},
   "source": [
    "# LAB 4: Gram-Schmidt and Eigenvalues & Eigenvectors\n"
   ]
  },
  {
   "cell_type": "markdown",
   "metadata": {},
   "source": [
    "\n",
    "In this lab you will use Python to study the following topics:\n",
    "\n",
    "- The Gram-Schmidt Algorithm to change an independent set of vectors into anorthonormal set.\n",
    "\n",
    "- Determination of eigenvalues and eigenvectors using the characteristic polynomial of a matrix\n",
    "\n",
    "- Use of eigenvectors to transform a matrix to diagonal form.\n"
   ]
  },
  {
   "cell_type": "markdown",
   "metadata": {},
   "source": [
    "# First: you should run this cell"
   ]
  },
  {
   "cell_type": "code",
   "execution_count": 53,
   "metadata": {},
   "outputs": [],
   "source": [
    "# Make all numpy available via shorter 'np' prefix\n",
    "import numpy as np\n",
    "# Make all sympy available via shorter 'sym' prefix\n",
    "import sympy as sym\n",
    "\n",
    "import math\n",
    "\n",
    "\n",
    "#import plotter\n",
    "import matplotlib.pyplot as plt\n",
    "\n",
    "\n",
    "def rvect(m):\n",
    "    return np.fix((10 * (np.random.rand(m, 1))))\n",
    "\n",
    "\n",
    "def rmat(m, n):\n",
    "    return np.fix((10 * (np.random.rand(m, n))))"
   ]
  },
  {
   "cell_type": "markdown",
   "metadata": {},
   "source": [
    "#  Question 1 : Gram-Schmidt Orthogonalization"
   ]
  },
  {
   "cell_type": "markdown",
   "metadata": {},
   "source": [
    "#### Generate three random vectors in $R^3$ by\n",
    "\n",
    "- `u1 = np.array([[4], [9], [6]])`\n",
    "- `u2 = np.array([[6], [8], [8]])`\n",
    "- `u3 = np.array([[0], [9], [6]])`\n",
    "\n",
    "- Check whether they are linearly independent by calculating `np.linalg.matrix_rank(np.block([u1, u2, u3]))`.\n",
    "- If the answer is not 3, then generate a new random set of vectors and calculate the rank. Repeat until the rank is 3. Now use these vectors in the following calculations."
   ]
  },
  {
   "cell_type": "code",
   "execution_count": 54,
   "metadata": {},
   "outputs": [
    {
     "name": "stdout",
     "output_type": "stream",
     "text": [
      "u1 = \n",
      " [[4]\n",
      " [9]\n",
      " [6]]\n",
      "\n",
      "u2 = \n",
      " [[6]\n",
      " [8]\n",
      " [8]]\n",
      "\n",
      "u3 = \n",
      " [[0]\n",
      " [9]\n",
      " [6]]\n",
      "\n",
      "rank([u1, u2, u3]) =  3\n"
     ]
    }
   ],
   "source": [
    "#type your code here:\n",
    "u1 = np.array([[4], [9], [6]])\n",
    "u2 = np.array([[6], [8], [8]])\n",
    "u3 = np.array([[0], [9], [6]])\n",
    "U = np.block([u1, u2, u3])\n",
    "print(\"u1 = \\n\", u1)\n",
    "print(\"\\nu2 = \\n\", u2)\n",
    "print(\"\\nu3 = \\n\", u3)\n",
    "print(\"\\nrank([u1, u2, u3]) = \", np.linalg.matrix_rank(U))"
   ]
  },
  {
   "cell_type": "markdown",
   "metadata": {},
   "source": [
    "#### Plot the three vectors in the graphics window as red, green, and blue dotted lines by the commands:\n",
    "- `r = np.arange(0, 1, 0.05)`\n",
    "- `ax = plt.axes(projection='3d')`\n",
    "- `ax.plot3D(r * u1[0], r * u1[1], r * u1[2], 'r:')`\n",
    "- `ax.plot3D(r * u2[0], r * u2[1], r * u2[2], 'g:')`\n",
    "- `ax.plot3D(r * u3[0], r * u3[1], r * u3[2], 'b:')`\n",
    "\n",
    "#### Determine visually whether the vectors are mutually orthogonal or not."
   ]
  },
  {
   "cell_type": "markdown",
   "metadata": {},
   "source": [
    "### ---------------------------------------------------Write your answer here--------------------------------------------\n",
    "\n",
    "\n",
    "\n",
    "\n",
    "\n",
    "\n",
    "\n",
    "### --------------------------------------------------------------------------------------------------------------------------------"
   ]
  },
  {
   "cell_type": "code",
   "execution_count": 55,
   "metadata": {},
   "outputs": [
    {
     "data": {
      "image/png": "[encoded data removed]",
      "text/plain": [
       "<Figure size 432x288 with 1 Axes>"
      ]
     },
     "metadata": {
      "needs_background": "light"
     },
     "output_type": "display_data"
    }
   ],
   "source": [
    "#type your code here\n",
    "r = np.arange(0, 1, 0.05)\n",
    "ax = plt.axes(projection='3d')\n",
    "ax.plot3D(r * u1[0], r * u1[1], r * u1[2], 'r:')\n",
    "ax.plot3D(r * u2[0], r * u2[1], r * u2[2], 'g:')\n",
    "ax.plot3D(r * u3[0], r * u3[1], r * u3[2], 'b:');"
   ]
  },
  {
   "cell_type": "markdown",
   "metadata": {},
   "source": [
    "#### (b) Now use the vectors u1, u2, u3 to obtain an orthogonal basis for R3, following the Gram-Schmidt algorithm. Set `v1 = u1`. Obtain v2 by removing the component of u2 in the direction v1:\n",
    "\n",
    "\n",
    "\\\\[v_2 = u_2 - \\frac{v_1 \\cdot u_2}{v_1 \\cdot v_1}v_1\\\\]\n",
    "\n",
    "- Calculate the dot product to check that the vectors v1 and v2 are mutually orthogonal (within a negligible numerical error). Also add v2 to your graphics window as a dashed-dotted green line."
   ]
  },
  {
   "cell_type": "code",
   "execution_count": 56,
   "metadata": {},
   "outputs": [
    {
     "name": "stdout",
     "output_type": "stream",
     "text": [
      "v1 = \n",
      " [[4]\n",
      " [9]\n",
      " [6]]\n",
      "\n",
      "v2 = \n",
      " [[ 1.66917293]\n",
      " [-1.7443609 ]\n",
      " [ 1.5037594 ]]\n",
      "\n",
      "v1 . v2 =  [[0.]]\n"
     ]
    }
   ],
   "source": [
    "#type your code here\n",
    "v1 = u1\n",
    "v2 = np.array(u2-((np.dot(v1.T , u2)/np.dot(v1.T , v1)*v1)))\n",
    "print(\"v1 = \\n\", v1)\n",
    "print(\"\\nv2 = \\n\", v2)\n",
    "print(\"\\nv1 . v2 = \", np.dot(v1.T , v2))"
   ]
  },
  {
   "cell_type": "code",
   "execution_count": 57,
   "metadata": {},
   "outputs": [
    {
     "data": {
      "image/png": "[encoded data removed]",
      "text/plain": [
       "<Figure size 432x288 with 1 Axes>"
      ]
     },
     "metadata": {
      "needs_background": "light"
     },
     "output_type": "display_data"
    }
   ],
   "source": [
    "r = np.arange(0, 1, 0.05)\n",
    "ax = plt.axes(projection='3d')\n",
    "ax.plot3D(r * v1[0], r * v1[1], r * v1[2], 'r:')\n",
    "ax.plot3D(r * v2[0], r * v2[1], r * v2[2], 'g:');"
   ]
  },
  {
   "cell_type": "markdown",
   "metadata": {},
   "source": [
    "#### Now obtain v3 by removing the components of u3 in the directions of v1 and v2:\n",
    "\n",
    "\\\\[v_3 = u_3 - \\frac{v_1 \\cdot u_3}{v_1 \\cdot v_1}v_1 - \\frac{v_2 \\cdot u_3}{v_2 \\cdot v_2}v_2\\\\\\\\]\n",
    "- Calculate dot products by python to check that v3 is orthogonal to the vectors v1 and v2 (within a negligible numerical error). Add v3 to your plot as a dashed-dotted blue line by"
   ]
  },
  {
   "cell_type": "code",
   "execution_count": 58,
   "metadata": {},
   "outputs": [
    {
     "name": "stdout",
     "output_type": "stream",
     "text": [
      "v3 = \n",
      " [[-2.14126394]\n",
      " [-0.35687732]\n",
      " [ 1.96282528]]\n",
      "\n",
      "v3 . v1 =  [[-3.55271368e-15]]\n",
      "\n",
      "v3 . v2 =  [[0.]]\n"
     ]
    }
   ],
   "source": [
    "#type your code here\n",
    "v3 = np.array(u3-((np.dot(v1.T , u3)/np.dot(v1.T , v1)*v1))-((np.dot(v2.T , u3)/np.dot(v2.T , v2)*v2)))\n",
    "print(\"v3 = \\n\", v3)\n",
    "print(\"\\nv3 . v1 = \", np.dot(v3.T , v1))\n",
    "print(\"\\nv3 . v2 = \", np.dot(v3.T , v2))"
   ]
  },
  {
   "cell_type": "markdown",
   "metadata": {},
   "source": [
    "#### Add v3 to your plot as a dashed-dotted blue line. Obtain a good alignment of the graph that shows orthogonality in perspective using:\n",
    "- `ax.view_init(angle1, angle2)`"
   ]
  },
  {
   "cell_type": "code",
   "execution_count": 59,
   "metadata": {},
   "outputs": [
    {
     "data": {
      "image/png": "[encoded data removed]",
      "text/plain": [
       "<Figure size 432x288 with 1 Axes>"
      ]
     },
     "metadata": {
      "needs_background": "light"
     },
     "output_type": "display_data"
    }
   ],
   "source": [
    "#type your code here\n",
    "r = np.arange(0, 1, 0.05)\n",
    "ax = plt.axes(projection='3d')\n",
    "ax.plot3D(r * v1[0], r * v1[1], r * v1[2], 'r:')\n",
    "ax.plot3D(r * v2[0], r * v2[1], r * v2[2], 'g:')\n",
    "ax.plot3D(r * v3[0], r * v3[1], r * v3[2], 'b:');"
   ]
  },
  {
   "cell_type": "markdown",
   "metadata": {},
   "source": [
    "#### (c) The last step in the Gram-Schmidt algorithm is to rescale the vectors v1, v2, v3 to obtain an orthonormal basis for R3:\n",
    "\n",
    "- `w1 = v1 / np.linalg.norm(v1)`\n",
    "- `w2 = v2 / np.linalg.norm(v2)`\n",
    "- `w3 = v3 / np.linalg.norm(v3)`\n",
    "\n",
    "#### Define the matrix Q = [w1, w2, w3] and give written answers to the following questions.\n",
    "\n",
    "\n",
    "\n",
    "- What is the inverse matrix Q Now."
   ]
  },
  {
   "cell_type": "code",
   "execution_count": 60,
   "metadata": {},
   "outputs": [
    {
     "name": "stdout",
     "output_type": "stream",
     "text": [
      "w1 = \n",
      " [[0.34684399]\n",
      " [0.78039897]\n",
      " [0.52026598]]\n",
      "\n",
      "w2 = \n",
      " [[ 0.58684177]\n",
      " [-0.61327608]\n",
      " [ 0.52868628]]\n",
      "\n",
      "w3 = \n",
      " [[-0.73165291]\n",
      " [-0.12194215]\n",
      " [ 0.67068184]]\n",
      "\n",
      "Q = \n",
      " [[ 0.34684399  0.58684177 -0.73165291]\n",
      " [ 0.78039897 -0.61327608 -0.12194215]\n",
      " [ 0.52026598  0.52868628  0.67068184]]\n",
      "\n",
      "Q.T @ Q = \n",
      " [[ 1.00000000e+00 -5.55111512e-17 -1.11022302e-16]\n",
      " [-5.55111512e-17  1.00000000e+00 -1.11022302e-16]\n",
      " [-1.11022302e-16 -1.11022302e-16  1.00000000e+00]]\n",
      "\n",
      "inv(Q) = \n",
      " [[ 0.34684399  0.78039897  0.52026598]\n",
      " [ 0.58684177 -0.61327608  0.52868628]\n",
      " [-0.73165291 -0.12194215  0.67068184]]\n"
     ]
    }
   ],
   "source": [
    "#type your code here:\n",
    "w1 = v1 / np.linalg.norm(v1)\n",
    "w2 = v2 / np.linalg.norm(v2)\n",
    "w3 = v3 / np.linalg.norm(v3)\n",
    "Q = np.block([w1, w2, w3])\n",
    "print(\"w1 = \\n\", w1)\n",
    "print(\"\\nw2 = \\n\", w2)\n",
    "print(\"\\nw3 = \\n\", w3)\n",
    "print(\"\\nQ = \\n\", Q)\n",
    "print(\"\\nQ.T @ Q = \\n\", Q.T @ Q)\n",
    "print(\"\\ninv(Q) = \\n\", np. linalg. inv(Q))"
   ]
  },
  {
   "cell_type": "markdown",
   "metadata": {},
   "source": [
    "# Question 2. Eigenvectors and Diagonalization"
   ]
  },
  {
   "cell_type": "markdown",
   "metadata": {},
   "source": [
    "#### (a) Generate a random 3 * 3 integer matrix and test whether its eigenvalues are all real by the commands\n",
    "\n",
    "- `A = rmat(3,3)`\n",
    "- Use [numpy.linalg.eig](https://numpy.org/doc/stable/reference/generated/numpy.linalg.eig.html) to obtain the eigenvalues of `A` as follows:\n",
    "    - `w, v = np.linalg.eig(A)`. Where `w` are the eigenvalues and `v`the normalized (unit “length”) eigenvectors, such that the column `v[:,i]` is the eigenvector corresponding to the eigenvalue `w[i]`.\n",
    "- `z = w - w.real`\n",
    "\n",
    "If any entry in the vector z is not zero, then the eigenvalues of A are not all real. In this case repeat these commands until you get an A for which z has all zeros.\n",
    "\n",
    "<div class=\"alert alert-warning\">\n",
    "    <h4>\n",
    "        If you generated any matrices with complex eigenvalues, be very careful here! don't use it for the next questions!\n",
    "    </h4>\n",
    "</div>"
   ]
  },
  {
   "cell_type": "code",
   "execution_count": 61,
   "metadata": {},
   "outputs": [
    {
     "name": "stdout",
     "output_type": "stream",
     "text": [
      "<class 'numpy.float64'>\n",
      "A = \n",
      " [[4. 6. 7.]\n",
      " [9. 9. 8.]\n",
      " [3. 0. 8.]]\n",
      "\n",
      "w = \n",
      " [16.30136895 -1.78751922  6.48615027]\n",
      "\n",
      "v = \n",
      " [[-0.51414231 -0.82693079 -0.2844389 ]\n",
      " [-0.8373378   0.50193728 -0.7754785 ]\n",
      " [-0.18580392  0.25346488  0.56367331]]\n",
      "\n",
      "z =  [[0. 0. 0.]]\n"
     ]
    }
   ],
   "source": [
    "#type your code here:\n",
    "A = np.array([[4.0, 6.0, 7.0], [9.0, 9.0, 8.0], [3.0, 0.0, 8.0]])\n",
    "print(\"A = \\n\", A)\n",
    "w, v = np.linalg.eig(A)\n",
    "print(\"\\nw = \\n\", w)\n",
    "print(\"\\nv = \\n\", v)\n",
    "z = np.array([w - w.real])\n",
    "print(\"\\nz = \", z)\n"
   ]
  },
  {
   "cell_type": "markdown",
   "metadata": {},
   "source": [
    "#### Now calculate the characteristic polynomial p(t) of your matrix A by\n",
    "\n",
    "- Symbolic computations are done with `Symbol` class in `sympy`. Read the [documentation](https://docs.sympy.org/latest/gotchas.html#introduction) for many different examples.\n",
    "- `from sympy.abc import t`\n",
    "- `I = np.eye(3)`\n",
    "- `p = sym.det(sym.Matrix(A - t * I))`\n",
    "- `sym.solve(p)`\n",
    "\n",
    "\n",
    "#### Plot the characteristic polynomial of A in a graphics window\n",
    "\n",
    "- `p1 = sym.plot(p, (t, -10, 10), show=False)`\n",
    "- `p1.show()`\n",
    "\n",
    "- Adjust the horizontal range of the plot (change [ -10,10] if needed).\n",
    "- View the graph with a range that shows all three real roots, and include the graph in your lab report. Use the graph to obtain approximate values for the three real roots of p(t).\n"
   ]
  },
  {
   "cell_type": "code",
   "execution_count": 62,
   "metadata": {},
   "outputs": [
    {
     "name": "stdout",
     "output_type": "stream",
     "text": [
      "p =  -1.0*t**3 + 21.0*t**2 - 65.0*t - 189.0\n",
      "\n",
      "roots =  [-1.78751922313492 + 0.e-22*I, 6.48615027225818 + 0.e-19*I, 16.3013689508767 - 0.e-21*I]\n"
     ]
    }
   ],
   "source": [
    "#typr your code here:\n",
    "from sympy.abc import t\n",
    "I = np.eye(3)\n",
    "p = sym.det(sym.Matrix(A - t * I))\n",
    "print(\"p = \", p)\n",
    "print(\"\\nroots = \", sym.solve(p))"
   ]
  },
  {
   "cell_type": "markdown",
   "metadata": {},
   "source": [
    "#### (b)Use the python to generate a matrix P and a diagonal matrix D. \n",
    "\n",
    "- `w, P = np.linalg.eig(A)`\n",
    "- `D = np.linalg.diag(w)`\n",
    "\n",
    "- Compare the diagonal entries of D with your graphical estimates for the eigenvalues of A in part (a).\n",
    "\n",
    "#### Use python to define (the columns of P).\n",
    "\n",
    "- `p1 = P[:, [0]]`\n",
    "- `p2 = P[:, [1]]`\n",
    "- `p3 = P[:, [2]]`\n",
    " \n",
    "#### Calculate\n",
    "\n",
    "- `A @ p1 - D[0, 0] * p1`\n",
    "- `A @ p2 - D[1, 1] * p2`\n",
    "- `A @ p3 - D[2, 2] * p3`\n",
    "\n",
    "#### What does this calculation tell you about the eigenvalues and eigenvectors of A? "
   ]
  },
  {
   "cell_type": "markdown",
   "metadata": {},
   "source": [
    "### ---------------------------------------------------Write your answer here------------------------------------\n",
    "\n",
    "\n",
    "\n",
    "\n",
    "\n",
    "\n",
    "\n",
    "### ------------------------------------------------------------------------------------------------------------------------"
   ]
  },
  {
   "cell_type": "code",
   "execution_count": 63,
   "metadata": {},
   "outputs": [
    {
     "name": "stdout",
     "output_type": "stream",
     "text": [
      "P = \n",
      " [[-0.51414231 -0.82693079 -0.2844389 ]\n",
      " [-0.8373378   0.50193728 -0.7754785 ]\n",
      " [-0.18580392  0.25346488  0.56367331]]\n",
      "\n",
      "D = \n",
      " [[16.30136895  0.          0.        ]\n",
      " [ 0.         -1.78751922  0.        ]\n",
      " [ 0.          0.          6.48615027]]\n",
      "\n",
      "A @ p1 - D[0, 0] * p1 = \n",
      " [[8.88178420e-15]\n",
      " [5.32907052e-15]\n",
      " [1.33226763e-15]]\n",
      "\n",
      "A @ p2 - D[1, 1] * p2 = \n",
      " [[-1.99840144e-15]\n",
      " [-3.88578059e-15]\n",
      " [-1.49880108e-15]]\n",
      "\n",
      "A @ p3 - D[2, 2] * p3 = \n",
      " [[3.99680289e-15]\n",
      " [8.88178420e-16]\n",
      " [4.44089210e-16]]\n"
     ]
    }
   ],
   "source": [
    "#type your code here:\n",
    "w, P = np.linalg.eig(A)\n",
    "print(\"P = \\n\", P)\n",
    "D = np.diag(w)\n",
    "print(\"\\nD = \\n\", D)\n",
    "p1 = P[:, [0]]\n",
    "p2 = P[:, [1]]\n",
    "p3 = P[:, [2]]\n",
    "print(\"\\nA @ p1 - D[0, 0] * p1 = \\n\", A @ p1 - D[0, 0] * p1)\n",
    "print(\"\\nA @ p2 - D[1, 1] * p2 = \\n\", A @ p2 - D[1, 1] * p2)\n",
    "print(\"\\nA @ p3 - D[2, 2] * p3 = \\n\", A @ p3 - D[2, 2] * p3)"
   ]
  },
  {
   "cell_type": "markdown",
   "metadata": {},
   "source": [
    "#### (c) Let A, P, D be as in part (b).\n",
    "\n",
    "- Verify by python that `A = P @ D @ np.linalg.inv(P)`.\n",
    "- Use this formula for A to express A<sup>5</sup> and A<sup>10</sup> symbolically in terms of P, P<sup>-1</sup>, D<sup>5</sup> and D<sup>10</sup>.\n",
    "- Verify your answer to this question numerically using python. Hint: use `np.linalg.matrix_power(A, 5)` to calculate A<sup>5</sup>."
   ]
  },
  {
   "cell_type": "markdown",
   "metadata": {},
   "source": [
    "### ---------------------------------------------------Write your answer here------------------------------------\n",
    "\n",
    "\n",
    "\n",
    "\n",
    "\n",
    "\n",
    "\n",
    "### ------------------------------------------------------------------------------------------------------------------------"
   ]
  },
  {
   "cell_type": "code",
   "execution_count": 64,
   "metadata": {},
   "outputs": [
    {
     "name": "stdout",
     "output_type": "stream",
     "text": [
      "A = \n",
      " [[4. 6. 7.]\n",
      " [9. 9. 8.]\n",
      " [3. 0. 8.]]\n",
      "\n",
      "P @ D @ np.linalg.inv(P) = \n",
      " [[4.00000000e+00 6.00000000e+00 7.00000000e+00]\n",
      " [9.00000000e+00 9.00000000e+00 8.00000000e+00]\n",
      " [3.00000000e+00 1.77635684e-15 8.00000000e+00]]\n",
      "\n",
      "A^5 = \n",
      " [[ 392422.  324222.  638281.]\n",
      " [ 638541.  529425. 1034786.]\n",
      " [ 143085.  114156.  240734.]]\n",
      "\n",
      "P @ D^5 @ P^-1 = \n",
      " [[ 392422.  324222.  638281.]\n",
      " [ 638541.  529425. 1034786.]\n",
      " [ 143085.  114156.  240734.]]\n",
      "\n",
      "A^10 = \n",
      " [[4.52352503e+11 3.71746684e+11 7.39631831e+11]\n",
      " [7.36699460e+11 6.05446901e+11 1.20451834e+12]\n",
      " [1.63488413e+11 1.34309576e+11 2.67408326e+11]]\n",
      "\n",
      "P @ D^10 @ P^-1 = \n",
      " [[4.52352503e+11 3.71746684e+11 7.39631831e+11]\n",
      " [7.36699460e+11 6.05446901e+11 1.20451834e+12]\n",
      " [1.63488413e+11 1.34309576e+11 2.67408326e+11]]\n"
     ]
    }
   ],
   "source": [
    "#type your code here:\n",
    "print(\"A = \\n\", A)\n",
    "print(\"\\nP @ D @ np.linalg.inv(P) = \\n\", P @ D @ np.linalg.inv(P))\n",
    "print(\"\\nA^5 = \\n\", np.linalg.matrix_power(A, 5))\n",
    "print(\"\\nP @ D^5 @ P^-1 = \\n\", P @ np.linalg.matrix_power(D, 5) @ np.linalg.inv(P))\n",
    "print(\"\\nA^10 = \\n\", np.linalg.matrix_power(A, 10))\n",
    "print(\"\\nP @ D^10 @ P^-1 = \\n\", P @ np.linalg.matrix_power(D, 10) @ np.linalg.inv(P))"
   ]
  }
 ],
 "metadata": {
  "kernelspec": {
   "display_name": "Python 3 (ipykernel)",
   "language": "python",
   "name": "python3"
  },
  "language_info": {
   "codemirror_mode": {
    "name": "ipython",
    "version": 3
   },
   "file_extension": ".py",
   "mimetype": "text/x-python",
   "name": "python",
   "nbconvert_exporter": "python",
   "pygments_lexer": "ipython3",
   "version": "3.9.7"
  }
 },
 "nbformat": 4,
 "nbformat_minor": 4
}
